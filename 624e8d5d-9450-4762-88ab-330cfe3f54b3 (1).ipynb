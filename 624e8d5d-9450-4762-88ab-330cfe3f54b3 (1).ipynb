{
 "cells": [
  {
   "cell_type": "code",
   "execution_count": 1,
   "metadata": {},
   "outputs": [],
   "source": [
    "import pandas as pd\n",
    "pd.options.display.max_colwidth = 1\n",
    "import datetime as dt\n",
    "import numpy as np\n",
    "import scipy.stats as stats\n",
    "import matplotlib.pyplot as plt\n",
    "from pandas.plotting import register_matplotlib_converters\n",
    "import warnings\n",
    "register_matplotlib_converters()"
   ]
  },
  {
   "cell_type": "markdown",
   "metadata": {},
   "source": [
    "# Описание проекта.\n",
    "Вместе с отделом маркетинга подготовиить список гипотез для увеличения выручки интернет-магазина.\n",
    "Необходимо приоритизировать гипотезы, запустить A/B-тест и проанализировать результаты. \n",
    "В ходе теста принять решение по остановке или продолжению эксперимента, выбрать сегмент наиболее успешный сегмент, если это возможно сделать. Исследовать выручку и средний чек, количество заказов."
   ]
  },
  {
   "cell_type": "markdown",
   "metadata": {},
   "source": [
    "# Часть 1. Приоритизация гипотез."
   ]
  },
  {
   "cell_type": "markdown",
   "metadata": {},
   "source": [
    "В файле /datasets/hypothesis.csv 9 гипотез по увеличению выручки интернет-магазина с указанными параметрами Reach, Impact, Confidence, Effort.\n",
    "Задача\n",
    "Примените фреймворк ICE для приоритизации гипотез. Отсортируйте их по убыванию приоритета.\n",
    "Примените фреймворк RICE для приоритизации гипотез. Отсортируйте их по убыванию приоритета.\n",
    "Укажите, как изменилась приоритизация гипотез при применении RICE вместо ICE. Объясните, почему так произошло."
   ]
  },
  {
   "cell_type": "code",
   "execution_count": 2,
   "metadata": {},
   "outputs": [
    {
     "name": "stdout",
     "output_type": "stream",
     "text": [
      "<class 'pandas.core.frame.DataFrame'>\n",
      "RangeIndex: 9 entries, 0 to 8\n",
      "Data columns (total 5 columns):\n",
      " #   Column      Non-Null Count  Dtype \n",
      "---  ------      --------------  ----- \n",
      " 0   Hypothesis  9 non-null      object\n",
      " 1   Reach       9 non-null      int64 \n",
      " 2   Impact      9 non-null      int64 \n",
      " 3   Confidence  9 non-null      int64 \n",
      " 4   Efforts     9 non-null      int64 \n",
      "dtypes: int64(4), object(1)\n",
      "memory usage: 488.0+ bytes\n",
      "None\n"
     ]
    }
   ],
   "source": [
    "data = pd.read_csv('/datasets/hypothesis.csv', sep=',')\n",
    "print(data.info()) #ознакомился с данными"
   ]
  },
  {
   "cell_type": "code",
   "execution_count": 3,
   "metadata": {
    "scrolled": true
   },
   "outputs": [
    {
     "data": {
      "text/html": [
       "<div>\n",
       "<style scoped>\n",
       "    .dataframe tbody tr th:only-of-type {\n",
       "        vertical-align: middle;\n",
       "    }\n",
       "\n",
       "    .dataframe tbody tr th {\n",
       "        vertical-align: top;\n",
       "    }\n",
       "\n",
       "    .dataframe thead th {\n",
       "        text-align: right;\n",
       "    }\n",
       "</style>\n",
       "<table border=\"1\" class=\"dataframe\">\n",
       "  <thead>\n",
       "    <tr style=\"text-align: right;\">\n",
       "      <th></th>\n",
       "      <th>Hypothesis</th>\n",
       "      <th>Reach</th>\n",
       "      <th>Impact</th>\n",
       "      <th>Confidence</th>\n",
       "      <th>Efforts</th>\n",
       "    </tr>\n",
       "  </thead>\n",
       "  <tbody>\n",
       "    <tr>\n",
       "      <th>0</th>\n",
       "      <td>Добавить два новых канала привлечения трафика, что позволит привлекать на 30% больше пользователей</td>\n",
       "      <td>3</td>\n",
       "      <td>10</td>\n",
       "      <td>8</td>\n",
       "      <td>6</td>\n",
       "    </tr>\n",
       "    <tr>\n",
       "      <th>1</th>\n",
       "      <td>Запустить собственную службу доставки, что сократит срок доставки заказов</td>\n",
       "      <td>2</td>\n",
       "      <td>5</td>\n",
       "      <td>4</td>\n",
       "      <td>10</td>\n",
       "    </tr>\n",
       "    <tr>\n",
       "      <th>2</th>\n",
       "      <td>Добавить блоки рекомендаций товаров на сайт интернет магазина, чтобы повысить конверсию и средний чек заказа</td>\n",
       "      <td>8</td>\n",
       "      <td>3</td>\n",
       "      <td>7</td>\n",
       "      <td>3</td>\n",
       "    </tr>\n",
       "    <tr>\n",
       "      <th>3</th>\n",
       "      <td>Изменить структура категорий, что увеличит конверсию, т.к. пользователи быстрее найдут нужный товар</td>\n",
       "      <td>8</td>\n",
       "      <td>3</td>\n",
       "      <td>3</td>\n",
       "      <td>8</td>\n",
       "    </tr>\n",
       "    <tr>\n",
       "      <th>4</th>\n",
       "      <td>Изменить цвет фона главной страницы, чтобы увеличить вовлеченность пользователей</td>\n",
       "      <td>3</td>\n",
       "      <td>1</td>\n",
       "      <td>1</td>\n",
       "      <td>1</td>\n",
       "    </tr>\n",
       "    <tr>\n",
       "      <th>5</th>\n",
       "      <td>Добавить страницу отзывов клиентов о магазине, что позволит увеличить количество заказов</td>\n",
       "      <td>3</td>\n",
       "      <td>2</td>\n",
       "      <td>2</td>\n",
       "      <td>3</td>\n",
       "    </tr>\n",
       "    <tr>\n",
       "      <th>6</th>\n",
       "      <td>Показать на главной странице баннеры с актуальными акциями и распродажами, чтобы увеличить конверсию</td>\n",
       "      <td>5</td>\n",
       "      <td>3</td>\n",
       "      <td>8</td>\n",
       "      <td>3</td>\n",
       "    </tr>\n",
       "    <tr>\n",
       "      <th>7</th>\n",
       "      <td>Добавить форму подписки на все основные страницы, чтобы собрать базу клиентов для email-рассылок</td>\n",
       "      <td>10</td>\n",
       "      <td>7</td>\n",
       "      <td>8</td>\n",
       "      <td>5</td>\n",
       "    </tr>\n",
       "    <tr>\n",
       "      <th>8</th>\n",
       "      <td>Запустить акцию, дающую скидку на товар в день рождения</td>\n",
       "      <td>1</td>\n",
       "      <td>9</td>\n",
       "      <td>9</td>\n",
       "      <td>5</td>\n",
       "    </tr>\n",
       "  </tbody>\n",
       "</table>\n",
       "</div>"
      ],
      "text/plain": [
       "                                                                                                     Hypothesis  \\\n",
       "0  Добавить два новых канала привлечения трафика, что позволит привлекать на 30% больше пользователей             \n",
       "1  Запустить собственную службу доставки, что сократит срок доставки заказов                                      \n",
       "2  Добавить блоки рекомендаций товаров на сайт интернет магазина, чтобы повысить конверсию и средний чек заказа   \n",
       "3  Изменить структура категорий, что увеличит конверсию, т.к. пользователи быстрее найдут нужный товар            \n",
       "4  Изменить цвет фона главной страницы, чтобы увеличить вовлеченность пользователей                               \n",
       "5  Добавить страницу отзывов клиентов о магазине, что позволит увеличить количество заказов                       \n",
       "6  Показать на главной странице баннеры с актуальными акциями и распродажами, чтобы увеличить конверсию           \n",
       "7  Добавить форму подписки на все основные страницы, чтобы собрать базу клиентов для email-рассылок               \n",
       "8  Запустить акцию, дающую скидку на товар в день рождения                                                        \n",
       "\n",
       "   Reach  Impact  Confidence  Efforts  \n",
       "0  3      10      8           6        \n",
       "1  2      5       4           10       \n",
       "2  8      3       7           3        \n",
       "3  8      3       3           8        \n",
       "4  3      1       1           1        \n",
       "5  3      2       2           3        \n",
       "6  5      3       8           3        \n",
       "7  10     7       8           5        \n",
       "8  1      9       9           5        "
      ]
     },
     "execution_count": 3,
     "metadata": {},
     "output_type": "execute_result"
    }
   ],
   "source": [
    "data.head(9)"
   ]
  },
  {
   "cell_type": "code",
   "execution_count": 4,
   "metadata": {},
   "outputs": [
    {
     "data": {
      "text/html": [
       "<div>\n",
       "<style scoped>\n",
       "    .dataframe tbody tr th:only-of-type {\n",
       "        vertical-align: middle;\n",
       "    }\n",
       "\n",
       "    .dataframe tbody tr th {\n",
       "        vertical-align: top;\n",
       "    }\n",
       "\n",
       "    .dataframe thead th {\n",
       "        text-align: right;\n",
       "    }\n",
       "</style>\n",
       "<table border=\"1\" class=\"dataframe\">\n",
       "  <thead>\n",
       "    <tr style=\"text-align: right;\">\n",
       "      <th></th>\n",
       "      <th>hypothesis</th>\n",
       "      <th>reach</th>\n",
       "      <th>impact</th>\n",
       "      <th>confidence</th>\n",
       "      <th>efforts</th>\n",
       "    </tr>\n",
       "  </thead>\n",
       "  <tbody>\n",
       "    <tr>\n",
       "      <th>0</th>\n",
       "      <td>Добавить два новых канала привлечения трафика, что позволит привлекать на 30% больше пользователей</td>\n",
       "      <td>3</td>\n",
       "      <td>10</td>\n",
       "      <td>8</td>\n",
       "      <td>6</td>\n",
       "    </tr>\n",
       "    <tr>\n",
       "      <th>1</th>\n",
       "      <td>Запустить собственную службу доставки, что сократит срок доставки заказов</td>\n",
       "      <td>2</td>\n",
       "      <td>5</td>\n",
       "      <td>4</td>\n",
       "      <td>10</td>\n",
       "    </tr>\n",
       "    <tr>\n",
       "      <th>2</th>\n",
       "      <td>Добавить блоки рекомендаций товаров на сайт интернет магазина, чтобы повысить конверсию и средний чек заказа</td>\n",
       "      <td>8</td>\n",
       "      <td>3</td>\n",
       "      <td>7</td>\n",
       "      <td>3</td>\n",
       "    </tr>\n",
       "    <tr>\n",
       "      <th>3</th>\n",
       "      <td>Изменить структура категорий, что увеличит конверсию, т.к. пользователи быстрее найдут нужный товар</td>\n",
       "      <td>8</td>\n",
       "      <td>3</td>\n",
       "      <td>3</td>\n",
       "      <td>8</td>\n",
       "    </tr>\n",
       "    <tr>\n",
       "      <th>4</th>\n",
       "      <td>Изменить цвет фона главной страницы, чтобы увеличить вовлеченность пользователей</td>\n",
       "      <td>3</td>\n",
       "      <td>1</td>\n",
       "      <td>1</td>\n",
       "      <td>1</td>\n",
       "    </tr>\n",
       "    <tr>\n",
       "      <th>5</th>\n",
       "      <td>Добавить страницу отзывов клиентов о магазине, что позволит увеличить количество заказов</td>\n",
       "      <td>3</td>\n",
       "      <td>2</td>\n",
       "      <td>2</td>\n",
       "      <td>3</td>\n",
       "    </tr>\n",
       "    <tr>\n",
       "      <th>6</th>\n",
       "      <td>Показать на главной странице баннеры с актуальными акциями и распродажами, чтобы увеличить конверсию</td>\n",
       "      <td>5</td>\n",
       "      <td>3</td>\n",
       "      <td>8</td>\n",
       "      <td>3</td>\n",
       "    </tr>\n",
       "    <tr>\n",
       "      <th>7</th>\n",
       "      <td>Добавить форму подписки на все основные страницы, чтобы собрать базу клиентов для email-рассылок</td>\n",
       "      <td>10</td>\n",
       "      <td>7</td>\n",
       "      <td>8</td>\n",
       "      <td>5</td>\n",
       "    </tr>\n",
       "    <tr>\n",
       "      <th>8</th>\n",
       "      <td>Запустить акцию, дающую скидку на товар в день рождения</td>\n",
       "      <td>1</td>\n",
       "      <td>9</td>\n",
       "      <td>9</td>\n",
       "      <td>5</td>\n",
       "    </tr>\n",
       "  </tbody>\n",
       "</table>\n",
       "</div>"
      ],
      "text/plain": [
       "                                                                                                     hypothesis  \\\n",
       "0  Добавить два новых канала привлечения трафика, что позволит привлекать на 30% больше пользователей             \n",
       "1  Запустить собственную службу доставки, что сократит срок доставки заказов                                      \n",
       "2  Добавить блоки рекомендаций товаров на сайт интернет магазина, чтобы повысить конверсию и средний чек заказа   \n",
       "3  Изменить структура категорий, что увеличит конверсию, т.к. пользователи быстрее найдут нужный товар            \n",
       "4  Изменить цвет фона главной страницы, чтобы увеличить вовлеченность пользователей                               \n",
       "5  Добавить страницу отзывов клиентов о магазине, что позволит увеличить количество заказов                       \n",
       "6  Показать на главной странице баннеры с актуальными акциями и распродажами, чтобы увеличить конверсию           \n",
       "7  Добавить форму подписки на все основные страницы, чтобы собрать базу клиентов для email-рассылок               \n",
       "8  Запустить акцию, дающую скидку на товар в день рождения                                                        \n",
       "\n",
       "   reach  impact  confidence  efforts  \n",
       "0  3      10      8           6        \n",
       "1  2      5       4           10       \n",
       "2  8      3       7           3        \n",
       "3  8      3       3           8        \n",
       "4  3      1       1           1        \n",
       "5  3      2       2           3        \n",
       "6  5      3       8           3        \n",
       "7  10     7       8           5        \n",
       "8  1      9       9           5        "
      ]
     },
     "execution_count": 4,
     "metadata": {},
     "output_type": "execute_result"
    }
   ],
   "source": [
    "df = pd.DataFrame(data)\n",
    "df.columns = df.columns.str.lower()\n",
    "df.head(9) #привел к нижнему регистру названия колонок"
   ]
  },
  {
   "cell_type": "code",
   "execution_count": 5,
   "metadata": {},
   "outputs": [
    {
     "data": {
      "text/html": [
       "<div>\n",
       "<style scoped>\n",
       "    .dataframe tbody tr th:only-of-type {\n",
       "        vertical-align: middle;\n",
       "    }\n",
       "\n",
       "    .dataframe tbody tr th {\n",
       "        vertical-align: top;\n",
       "    }\n",
       "\n",
       "    .dataframe thead th {\n",
       "        text-align: right;\n",
       "    }\n",
       "</style>\n",
       "<table border=\"1\" class=\"dataframe\">\n",
       "  <thead>\n",
       "    <tr style=\"text-align: right;\">\n",
       "      <th></th>\n",
       "      <th>hypothesis</th>\n",
       "      <th>ICE</th>\n",
       "    </tr>\n",
       "  </thead>\n",
       "  <tbody>\n",
       "    <tr>\n",
       "      <th>8</th>\n",
       "      <td>Запустить акцию, дающую скидку на товар в день рождения</td>\n",
       "      <td>16.200</td>\n",
       "    </tr>\n",
       "    <tr>\n",
       "      <th>0</th>\n",
       "      <td>Добавить два новых канала привлечения трафика, что позволит привлекать на 30% больше пользователей</td>\n",
       "      <td>13.333</td>\n",
       "    </tr>\n",
       "    <tr>\n",
       "      <th>7</th>\n",
       "      <td>Добавить форму подписки на все основные страницы, чтобы собрать базу клиентов для email-рассылок</td>\n",
       "      <td>11.200</td>\n",
       "    </tr>\n",
       "    <tr>\n",
       "      <th>6</th>\n",
       "      <td>Показать на главной странице баннеры с актуальными акциями и распродажами, чтобы увеличить конверсию</td>\n",
       "      <td>8.000</td>\n",
       "    </tr>\n",
       "    <tr>\n",
       "      <th>2</th>\n",
       "      <td>Добавить блоки рекомендаций товаров на сайт интернет магазина, чтобы повысить конверсию и средний чек заказа</td>\n",
       "      <td>7.000</td>\n",
       "    </tr>\n",
       "    <tr>\n",
       "      <th>1</th>\n",
       "      <td>Запустить собственную службу доставки, что сократит срок доставки заказов</td>\n",
       "      <td>2.000</td>\n",
       "    </tr>\n",
       "    <tr>\n",
       "      <th>5</th>\n",
       "      <td>Добавить страницу отзывов клиентов о магазине, что позволит увеличить количество заказов</td>\n",
       "      <td>1.333</td>\n",
       "    </tr>\n",
       "    <tr>\n",
       "      <th>3</th>\n",
       "      <td>Изменить структура категорий, что увеличит конверсию, т.к. пользователи быстрее найдут нужный товар</td>\n",
       "      <td>1.125</td>\n",
       "    </tr>\n",
       "    <tr>\n",
       "      <th>4</th>\n",
       "      <td>Изменить цвет фона главной страницы, чтобы увеличить вовлеченность пользователей</td>\n",
       "      <td>1.000</td>\n",
       "    </tr>\n",
       "  </tbody>\n",
       "</table>\n",
       "</div>"
      ],
      "text/plain": [
       "                                                                                                     hypothesis  \\\n",
       "8  Запустить акцию, дающую скидку на товар в день рождения                                                        \n",
       "0  Добавить два новых канала привлечения трафика, что позволит привлекать на 30% больше пользователей             \n",
       "7  Добавить форму подписки на все основные страницы, чтобы собрать базу клиентов для email-рассылок               \n",
       "6  Показать на главной странице баннеры с актуальными акциями и распродажами, чтобы увеличить конверсию           \n",
       "2  Добавить блоки рекомендаций товаров на сайт интернет магазина, чтобы повысить конверсию и средний чек заказа   \n",
       "1  Запустить собственную службу доставки, что сократит срок доставки заказов                                      \n",
       "5  Добавить страницу отзывов клиентов о магазине, что позволит увеличить количество заказов                       \n",
       "3  Изменить структура категорий, что увеличит конверсию, т.к. пользователи быстрее найдут нужный товар            \n",
       "4  Изменить цвет фона главной страницы, чтобы увеличить вовлеченность пользователей                               \n",
       "\n",
       "      ICE  \n",
       "8  16.200  \n",
       "0  13.333  \n",
       "7  11.200  \n",
       "6  8.000   \n",
       "2  7.000   \n",
       "1  2.000   \n",
       "5  1.333   \n",
       "3  1.125   \n",
       "4  1.000   "
      ]
     },
     "metadata": {},
     "output_type": "display_data"
    }
   ],
   "source": [
    "data['ICE'] = data['impact'] * data['confidence']/data['efforts']\n",
    "data['ICE'] = data['ICE'].astype('float')\n",
    "data['ICE'] = data['ICE'].round(3)\n",
    "display(data[['hypothesis','ICE']].sort_values(by='ICE', ascending=False)) #применил фреймворк ICE для приоритизации гипотез"
   ]
  },
  {
   "cell_type": "code",
   "execution_count": 6,
   "metadata": {},
   "outputs": [
    {
     "data": {
      "text/html": [
       "<div>\n",
       "<style scoped>\n",
       "    .dataframe tbody tr th:only-of-type {\n",
       "        vertical-align: middle;\n",
       "    }\n",
       "\n",
       "    .dataframe tbody tr th {\n",
       "        vertical-align: top;\n",
       "    }\n",
       "\n",
       "    .dataframe thead th {\n",
       "        text-align: right;\n",
       "    }\n",
       "</style>\n",
       "<table border=\"1\" class=\"dataframe\">\n",
       "  <thead>\n",
       "    <tr style=\"text-align: right;\">\n",
       "      <th></th>\n",
       "      <th>hypothesis</th>\n",
       "      <th>RICE</th>\n",
       "    </tr>\n",
       "  </thead>\n",
       "  <tbody>\n",
       "    <tr>\n",
       "      <th>7</th>\n",
       "      <td>Добавить форму подписки на все основные страницы, чтобы собрать базу клиентов для email-рассылок</td>\n",
       "      <td>112.0</td>\n",
       "    </tr>\n",
       "    <tr>\n",
       "      <th>2</th>\n",
       "      <td>Добавить блоки рекомендаций товаров на сайт интернет магазина, чтобы повысить конверсию и средний чек заказа</td>\n",
       "      <td>56.0</td>\n",
       "    </tr>\n",
       "    <tr>\n",
       "      <th>0</th>\n",
       "      <td>Добавить два новых канала привлечения трафика, что позволит привлекать на 30% больше пользователей</td>\n",
       "      <td>40.0</td>\n",
       "    </tr>\n",
       "    <tr>\n",
       "      <th>6</th>\n",
       "      <td>Показать на главной странице баннеры с актуальными акциями и распродажами, чтобы увеличить конверсию</td>\n",
       "      <td>40.0</td>\n",
       "    </tr>\n",
       "    <tr>\n",
       "      <th>8</th>\n",
       "      <td>Запустить акцию, дающую скидку на товар в день рождения</td>\n",
       "      <td>16.2</td>\n",
       "    </tr>\n",
       "    <tr>\n",
       "      <th>3</th>\n",
       "      <td>Изменить структура категорий, что увеличит конверсию, т.к. пользователи быстрее найдут нужный товар</td>\n",
       "      <td>9.0</td>\n",
       "    </tr>\n",
       "    <tr>\n",
       "      <th>1</th>\n",
       "      <td>Запустить собственную службу доставки, что сократит срок доставки заказов</td>\n",
       "      <td>4.0</td>\n",
       "    </tr>\n",
       "    <tr>\n",
       "      <th>5</th>\n",
       "      <td>Добавить страницу отзывов клиентов о магазине, что позволит увеличить количество заказов</td>\n",
       "      <td>4.0</td>\n",
       "    </tr>\n",
       "    <tr>\n",
       "      <th>4</th>\n",
       "      <td>Изменить цвет фона главной страницы, чтобы увеличить вовлеченность пользователей</td>\n",
       "      <td>3.0</td>\n",
       "    </tr>\n",
       "  </tbody>\n",
       "</table>\n",
       "</div>"
      ],
      "text/plain": [
       "                                                                                                     hypothesis  \\\n",
       "7  Добавить форму подписки на все основные страницы, чтобы собрать базу клиентов для email-рассылок               \n",
       "2  Добавить блоки рекомендаций товаров на сайт интернет магазина, чтобы повысить конверсию и средний чек заказа   \n",
       "0  Добавить два новых канала привлечения трафика, что позволит привлекать на 30% больше пользователей             \n",
       "6  Показать на главной странице баннеры с актуальными акциями и распродажами, чтобы увеличить конверсию           \n",
       "8  Запустить акцию, дающую скидку на товар в день рождения                                                        \n",
       "3  Изменить структура категорий, что увеличит конверсию, т.к. пользователи быстрее найдут нужный товар            \n",
       "1  Запустить собственную службу доставки, что сократит срок доставки заказов                                      \n",
       "5  Добавить страницу отзывов клиентов о магазине, что позволит увеличить количество заказов                       \n",
       "4  Изменить цвет фона главной страницы, чтобы увеличить вовлеченность пользователей                               \n",
       "\n",
       "    RICE  \n",
       "7  112.0  \n",
       "2  56.0   \n",
       "0  40.0   \n",
       "6  40.0   \n",
       "8  16.2   \n",
       "3  9.0    \n",
       "1  4.0    \n",
       "5  4.0    \n",
       "4  3.0    "
      ]
     },
     "metadata": {},
     "output_type": "display_data"
    }
   ],
   "source": [
    "data['RICE'] = (data['reach'] * data['impact'] * data['confidence'])/data['efforts']\n",
    "data['RICE'] = data['RICE'].astype('float')\n",
    "display(data[['hypothesis','RICE']].sort_values(by='RICE', ascending=False)) #применил фреймворк RICE для приоритизации гипотез"
   ]
  },
  {
   "cell_type": "markdown",
   "metadata": {},
   "source": [
    "В ходе проверки приоритезации гипотез с помощью методов ICE и RICE лидеры среди гипотез отличаются. В первом случае это \"Запустить акцию\", во втором это \"Добавить форму подписки\", две гипотезы  под номером 7 и 0 занимают лидирующие места в обоих случаях, четверстое место в обоих случаях занимает гипотеза под номером 6. Такие метафорфозы произошли из-за параметра Reach, который имеет значение 10 для гипотезы под номером 7."
   ]
  },
  {
   "cell_type": "markdown",
   "metadata": {},
   "source": [
    "# Часть 2. Анализ A/B-теста"
   ]
  },
  {
   "cell_type": "markdown",
   "metadata": {},
   "source": [
    "Вы провели A/B-тест и получили результаты, которые описаны в файлах /datasets/orders.csv и /datasets/visitors.csv."
   ]
  },
  {
   "cell_type": "code",
   "execution_count": 7,
   "metadata": {
    "scrolled": true
   },
   "outputs": [
    {
     "name": "stdout",
     "output_type": "stream",
     "text": [
      "<class 'pandas.core.frame.DataFrame'>\n",
      "RangeIndex: 1197 entries, 0 to 1196\n",
      "Data columns (total 5 columns):\n",
      " #   Column         Non-Null Count  Dtype \n",
      "---  ------         --------------  ----- \n",
      " 0   transactionId  1197 non-null   int64 \n",
      " 1   visitorId      1197 non-null   int64 \n",
      " 2   date           1197 non-null   object\n",
      " 3   revenue        1197 non-null   int64 \n",
      " 4   group          1197 non-null   object\n",
      "dtypes: int64(3), object(2)\n",
      "memory usage: 46.9+ KB\n",
      "None\n"
     ]
    }
   ],
   "source": [
    "orders = pd.read_csv('/datasets/orders.csv', sep=',') \n",
    "print(orders.info())"
   ]
  },
  {
   "cell_type": "code",
   "execution_count": 8,
   "metadata": {
    "scrolled": true
   },
   "outputs": [
    {
     "name": "stdout",
     "output_type": "stream",
     "text": [
      "   transactionId   visitorId       date  revenue group\n",
      "0  3667963787     3312258926 2019-08-15  1650     B   \n",
      "1  2804400009     3642806036 2019-08-15  730      B   \n",
      "2  2961555356     4069496402 2019-08-15  400      A   \n",
      "3  3797467345     1196621759 2019-08-15  9759     B   \n",
      "4  2282983706     2322279887 2019-08-15  2308     B   \n",
      "5  182168103      935554773  2019-08-15  2210     B   \n",
      "6  398296753      2900797465 2019-08-15  1860     B   \n",
      "7  2626614568     78758296   2019-08-15  1044     A   \n",
      "8  1576988021     295230930  2019-08-15  13710    A   \n",
      "9  1506739906     1882260405 2019-08-15  1855     B   \n"
     ]
    }
   ],
   "source": [
    "orders['date'] = orders['date'].map(lambda x: dt.datetime.strptime(x, '%Y-%m-%d'))\n",
    "print(orders.head(10))"
   ]
  },
  {
   "cell_type": "code",
   "execution_count": 9,
   "metadata": {
    "scrolled": true
   },
   "outputs": [
    {
     "name": "stdout",
     "output_type": "stream",
     "text": [
      "0       False\n",
      "1       False\n",
      "2       False\n",
      "3       False\n",
      "4       False\n",
      "        ...  \n",
      "1192    False\n",
      "1193    False\n",
      "1194    False\n",
      "1195    False\n",
      "1196    False\n",
      "Length: 1197, dtype: bool\n"
     ]
    }
   ],
   "source": [
    "print(orders.duplicated())"
   ]
  },
  {
   "cell_type": "code",
   "execution_count": 10,
   "metadata": {
    "scrolled": true
   },
   "outputs": [
    {
     "name": "stdout",
     "output_type": "stream",
     "text": [
      "Найдены пользователи, оказавшиеся в группах A и B:\n",
      "     transactionId_x   visitorId     date_x  revenue_x group_x  \\\n",
      "0    2961555356       4069496402 2019-08-15  400        A        \n",
      "1    2223239646       199603092  2019-08-15  3488       A        \n",
      "2    62794304         199603092  2019-08-22  6976       A        \n",
      "3    2971973105       199603092  2019-08-27  2790       A        \n",
      "4    1941707234       199603092  2019-08-12  6438       A        \n",
      "..          ...             ...         ...   ...      ..        \n",
      "178  3757656646       4186807279 2019-08-14  4990       A        \n",
      "179  3757656646       4186807279 2019-08-14  4990       A        \n",
      "180  3612788481       2712142231 2019-08-14  2490       A        \n",
      "181  4052155355       2949041841 2019-08-14  190        A        \n",
      "182  1458356232       963407295  2019-08-14  4940       A        \n",
      "\n",
      "     transactionId_y     date_y  revenue_y group_y  \n",
      "0    1473132782      2019-08-12  640        B       \n",
      "1    437656952       2019-08-02  3488       B       \n",
      "2    437656952       2019-08-02  3488       B       \n",
      "3    437656952       2019-08-02  3488       B       \n",
      "4    437656952       2019-08-02  3488       B       \n",
      "..         ...              ...   ...      ..       \n",
      "178  1759418862      2019-08-21  18560      B       \n",
      "179  380064637       2019-08-27  13740      B       \n",
      "180  1251767592      2019-08-16  790        B       \n",
      "181  1329499668      2019-08-14  10380      B       \n",
      "182  2904772834      2019-08-15  300        B       \n",
      "\n",
      "[183 rows x 9 columns]\n"
     ]
    }
   ],
   "source": [
    "group_a = orders[orders['group'] == 'A']\n",
    "group_b = orders[orders['group'] == 'B']\n",
    "\n",
    "common_users = pd.merge(group_a, group_b, how='inner', on='visitorId')\n",
    "\n",
    "if not common_users.empty:\n",
    "    print(\"Найдены пользователи, оказавшиеся в группах A и B:\")\n",
    "    print(common_users)\n",
    "else:\n",
    "    print(\"Общих пользователей в группах A и B не обнаружено.\")"
   ]
  },
  {
   "cell_type": "code",
   "execution_count": 11,
   "metadata": {
    "scrolled": true
   },
   "outputs": [
    {
     "name": "stdout",
     "output_type": "stream",
     "text": [
      "Найдены одинаковые пользователи:\n"
     ]
    },
    {
     "data": {
      "text/html": [
       "<div>\n",
       "<style scoped>\n",
       "    .dataframe tbody tr th:only-of-type {\n",
       "        vertical-align: middle;\n",
       "    }\n",
       "\n",
       "    .dataframe tbody tr th {\n",
       "        vertical-align: top;\n",
       "    }\n",
       "\n",
       "    .dataframe thead th {\n",
       "        text-align: right;\n",
       "    }\n",
       "</style>\n",
       "<table border=\"1\" class=\"dataframe\">\n",
       "  <thead>\n",
       "    <tr style=\"text-align: right;\">\n",
       "      <th></th>\n",
       "      <th>transactionId_x</th>\n",
       "      <th>visitorId</th>\n",
       "      <th>date_x</th>\n",
       "      <th>revenue_x</th>\n",
       "      <th>group_x</th>\n",
       "      <th>transactionId_y</th>\n",
       "      <th>date_y</th>\n",
       "      <th>revenue_y</th>\n",
       "      <th>group_y</th>\n",
       "    </tr>\n",
       "  </thead>\n",
       "  <tbody>\n",
       "    <tr>\n",
       "      <th>0</th>\n",
       "      <td>2961555356</td>\n",
       "      <td>4069496402</td>\n",
       "      <td>2019-08-15</td>\n",
       "      <td>400</td>\n",
       "      <td>A</td>\n",
       "      <td>1473132782</td>\n",
       "      <td>2019-08-12</td>\n",
       "      <td>640</td>\n",
       "      <td>B</td>\n",
       "    </tr>\n",
       "    <tr>\n",
       "      <th>1</th>\n",
       "      <td>2223239646</td>\n",
       "      <td>199603092</td>\n",
       "      <td>2019-08-15</td>\n",
       "      <td>3488</td>\n",
       "      <td>A</td>\n",
       "      <td>437656952</td>\n",
       "      <td>2019-08-02</td>\n",
       "      <td>3488</td>\n",
       "      <td>B</td>\n",
       "    </tr>\n",
       "    <tr>\n",
       "      <th>2</th>\n",
       "      <td>62794304</td>\n",
       "      <td>199603092</td>\n",
       "      <td>2019-08-22</td>\n",
       "      <td>6976</td>\n",
       "      <td>A</td>\n",
       "      <td>437656952</td>\n",
       "      <td>2019-08-02</td>\n",
       "      <td>3488</td>\n",
       "      <td>B</td>\n",
       "    </tr>\n",
       "    <tr>\n",
       "      <th>3</th>\n",
       "      <td>2971973105</td>\n",
       "      <td>199603092</td>\n",
       "      <td>2019-08-27</td>\n",
       "      <td>2790</td>\n",
       "      <td>A</td>\n",
       "      <td>437656952</td>\n",
       "      <td>2019-08-02</td>\n",
       "      <td>3488</td>\n",
       "      <td>B</td>\n",
       "    </tr>\n",
       "    <tr>\n",
       "      <th>4</th>\n",
       "      <td>1941707234</td>\n",
       "      <td>199603092</td>\n",
       "      <td>2019-08-12</td>\n",
       "      <td>6438</td>\n",
       "      <td>A</td>\n",
       "      <td>437656952</td>\n",
       "      <td>2019-08-02</td>\n",
       "      <td>3488</td>\n",
       "      <td>B</td>\n",
       "    </tr>\n",
       "    <tr>\n",
       "      <th>...</th>\n",
       "      <td>...</td>\n",
       "      <td>...</td>\n",
       "      <td>...</td>\n",
       "      <td>...</td>\n",
       "      <td>...</td>\n",
       "      <td>...</td>\n",
       "      <td>...</td>\n",
       "      <td>...</td>\n",
       "      <td>...</td>\n",
       "    </tr>\n",
       "    <tr>\n",
       "      <th>178</th>\n",
       "      <td>3757656646</td>\n",
       "      <td>4186807279</td>\n",
       "      <td>2019-08-14</td>\n",
       "      <td>4990</td>\n",
       "      <td>A</td>\n",
       "      <td>1759418862</td>\n",
       "      <td>2019-08-21</td>\n",
       "      <td>18560</td>\n",
       "      <td>B</td>\n",
       "    </tr>\n",
       "    <tr>\n",
       "      <th>179</th>\n",
       "      <td>3757656646</td>\n",
       "      <td>4186807279</td>\n",
       "      <td>2019-08-14</td>\n",
       "      <td>4990</td>\n",
       "      <td>A</td>\n",
       "      <td>380064637</td>\n",
       "      <td>2019-08-27</td>\n",
       "      <td>13740</td>\n",
       "      <td>B</td>\n",
       "    </tr>\n",
       "    <tr>\n",
       "      <th>180</th>\n",
       "      <td>3612788481</td>\n",
       "      <td>2712142231</td>\n",
       "      <td>2019-08-14</td>\n",
       "      <td>2490</td>\n",
       "      <td>A</td>\n",
       "      <td>1251767592</td>\n",
       "      <td>2019-08-16</td>\n",
       "      <td>790</td>\n",
       "      <td>B</td>\n",
       "    </tr>\n",
       "    <tr>\n",
       "      <th>181</th>\n",
       "      <td>4052155355</td>\n",
       "      <td>2949041841</td>\n",
       "      <td>2019-08-14</td>\n",
       "      <td>190</td>\n",
       "      <td>A</td>\n",
       "      <td>1329499668</td>\n",
       "      <td>2019-08-14</td>\n",
       "      <td>10380</td>\n",
       "      <td>B</td>\n",
       "    </tr>\n",
       "    <tr>\n",
       "      <th>182</th>\n",
       "      <td>1458356232</td>\n",
       "      <td>963407295</td>\n",
       "      <td>2019-08-14</td>\n",
       "      <td>4940</td>\n",
       "      <td>A</td>\n",
       "      <td>2904772834</td>\n",
       "      <td>2019-08-15</td>\n",
       "      <td>300</td>\n",
       "      <td>B</td>\n",
       "    </tr>\n",
       "  </tbody>\n",
       "</table>\n",
       "<p>183 rows × 9 columns</p>\n",
       "</div>"
      ],
      "text/plain": [
       "     transactionId_x   visitorId     date_x  revenue_x group_x  \\\n",
       "0    2961555356       4069496402 2019-08-15  400        A        \n",
       "1    2223239646       199603092  2019-08-15  3488       A        \n",
       "2    62794304         199603092  2019-08-22  6976       A        \n",
       "3    2971973105       199603092  2019-08-27  2790       A        \n",
       "4    1941707234       199603092  2019-08-12  6438       A        \n",
       "..          ...             ...         ...   ...      ..        \n",
       "178  3757656646       4186807279 2019-08-14  4990       A        \n",
       "179  3757656646       4186807279 2019-08-14  4990       A        \n",
       "180  3612788481       2712142231 2019-08-14  2490       A        \n",
       "181  4052155355       2949041841 2019-08-14  190        A        \n",
       "182  1458356232       963407295  2019-08-14  4940       A        \n",
       "\n",
       "     transactionId_y     date_y  revenue_y group_y  \n",
       "0    1473132782      2019-08-12  640        B       \n",
       "1    437656952       2019-08-02  3488       B       \n",
       "2    437656952       2019-08-02  3488       B       \n",
       "3    437656952       2019-08-02  3488       B       \n",
       "4    437656952       2019-08-02  3488       B       \n",
       "..         ...              ...   ...      ..       \n",
       "178  1759418862      2019-08-21  18560      B       \n",
       "179  380064637       2019-08-27  13740      B       \n",
       "180  1251767592      2019-08-16  790        B       \n",
       "181  1329499668      2019-08-14  10380      B       \n",
       "182  2904772834      2019-08-15  300        B       \n",
       "\n",
       "[183 rows x 9 columns]"
      ]
     },
     "metadata": {},
     "output_type": "display_data"
    }
   ],
   "source": [
    "group_a = orders[orders['group'] == 'A']\n",
    "group_b = orders[orders['group'] == 'B']\n",
    "\n",
    "identical_users = pd.merge(group_a, group_b, how='inner', on='visitorId')\n",
    "\n",
    "if identical_users.empty:\n",
    "    print(\"Одинаковых пользователей нет.\")\n",
    "else:\n",
    "    print(\"Найдены одинаковые пользователи:\")\n",
    "    display(identical_users)"
   ]
  },
  {
   "cell_type": "code",
   "execution_count": 12,
   "metadata": {
    "scrolled": true
   },
   "outputs": [
    {
     "name": "stdout",
     "output_type": "stream",
     "text": [
      "<class 'pandas.core.frame.DataFrame'>\n",
      "RangeIndex: 62 entries, 0 to 61\n",
      "Data columns (total 3 columns):\n",
      " #   Column    Non-Null Count  Dtype \n",
      "---  ------    --------------  ----- \n",
      " 0   date      62 non-null     object\n",
      " 1   group     62 non-null     object\n",
      " 2   visitors  62 non-null     int64 \n",
      "dtypes: int64(1), object(2)\n",
      "memory usage: 1.6+ KB\n",
      "None\n"
     ]
    }
   ],
   "source": [
    "visitors = pd.read_csv('/datasets/visitors.csv', sep=',')\n",
    "print(visitors.info())"
   ]
  },
  {
   "cell_type": "code",
   "execution_count": 13,
   "metadata": {},
   "outputs": [
    {
     "name": "stdout",
     "output_type": "stream",
     "text": [
      "        date group  visitors\n",
      "0 2019-08-01  A     719     \n",
      "1 2019-08-02  A     619     \n",
      "2 2019-08-03  A     507     \n",
      "3 2019-08-04  A     717     \n",
      "4 2019-08-05  A     756     \n",
      "5 2019-08-06  A     667     \n",
      "6 2019-08-07  A     644     \n",
      "7 2019-08-08  A     610     \n",
      "8 2019-08-09  A     617     \n",
      "9 2019-08-10  A     406     \n"
     ]
    }
   ],
   "source": [
    "visitors['date'] = visitors['date'].map(lambda x: dt.datetime.strptime(x, '%Y-%m-%d'))\n",
    "print(visitors.head(10)) #group A и B"
   ]
  },
  {
   "cell_type": "code",
   "execution_count": 14,
   "metadata": {},
   "outputs": [
    {
     "name": "stdout",
     "output_type": "stream",
     "text": [
      "2019-08-01 00:00:00\n",
      "2019-08-31 00:00:00\n"
     ]
    }
   ],
   "source": [
    "min_orders_date = orders['date'].min()\n",
    "print(min_orders_date)\n",
    "max_orders_date = orders['date'].max()\n",
    "print(max_orders_date)"
   ]
  },
  {
   "cell_type": "markdown",
   "metadata": {},
   "source": [
    "1.Постройте график кумулятивной выручки по группам. Сделайте выводы и предположения."
   ]
  },
  {
   "cell_type": "code",
   "execution_count": 15,
   "metadata": {
    "scrolled": true
   },
   "outputs": [
    {
     "name": "stdout",
     "output_type": "stream",
     "text": [
      "        date group  orders  buyers  revenue  visitors\n",
      "0 2019-08-01  A     24      20      148579   719     \n",
      "1 2019-08-01  B     21      20      101217   713     \n",
      "2 2019-08-02  A     44      38      242401   1338    \n",
      "3 2019-08-02  B     45      43      266748   1294    \n",
      "4 2019-08-03  A     68      62      354874   1845    \n"
     ]
    },
    {
     "data": {
      "image/png": "[encoded data removed]",
      "text/plain": [
       "<Figure size 432x288 with 1 Axes>"
      ]
     },
     "metadata": {
      "needs_background": "light"
     },
     "output_type": "display_data"
    }
   ],
   "source": [
    "datesGroups = orders[['date', 'group']].drop_duplicates()\n",
    "\n",
    "ordersAggregated = datesGroups.apply(\n",
    "    lambda x: orders[\n",
    "        np.logical_and(\n",
    "            orders['date'] <= x['date'], orders['group'] == x['group']\n",
    "        )\n",
    "    ].agg(\n",
    "        {\n",
    "            'date': 'max',\n",
    "            'group': 'max',\n",
    "            'transactionId': 'nunique',\n",
    "            'visitorId': 'nunique',\n",
    "            'revenue': 'sum',\n",
    "        }\n",
    "    ),\n",
    "    axis=1,\n",
    ").sort_values(by=['date', 'group'])\n",
    "\n",
    "visitorsAggregated = datesGroups.apply(\n",
    "    lambda x: visitors[\n",
    "        np.logical_and(\n",
    "            visitors['date'] <= x['date'], visitors['group'] == x['group']\n",
    "        )\n",
    "    ].agg({'date': 'max', 'group': 'max', 'visitors': 'sum'}),\n",
    "    axis=1,\n",
    ").sort_values(by=['date', 'group'])\n",
    "\n",
    "cumulativeData = ordersAggregated.merge(\n",
    "    visitorsAggregated, left_on=['date', 'group'], right_on=['date', 'group']\n",
    ")\n",
    "cumulativeData.columns = [\n",
    "    'date',\n",
    "    'group',\n",
    "    'orders',\n",
    "    'buyers',\n",
    "    'revenue',\n",
    "    'visitors',\n",
    "]\n",
    "print(cumulativeData.head(5))\n",
    "\n",
    "cumulativeRevenueA = cumulativeData[cumulativeData['group']=='A'][['date','revenue', 'orders']]\n",
    "\n",
    "cumulativeRevenueB = cumulativeData[cumulativeData['group']=='B'][['date','revenue', 'orders']]\n",
    "\n",
    "plt.plot(cumulativeRevenueA['date'], cumulativeRevenueA['revenue'], label='A')\n",
    "\n",
    "plt.plot(cumulativeRevenueB['date'], cumulativeRevenueB['revenue'], label='B')\n",
    "\n",
    "plt.legend()\n",
    "plt.title('График кумулятивной выручки по группам')\n",
    "plt.xlabel('Дата')\n",
    "plt.ylabel('Выручка')\n",
    "plt.xticks(rotation=45)\n",
    "plt.tight_layout()  \n",
    "plt.show();"
   ]
  },
  {
   "cell_type": "markdown",
   "metadata": {},
   "source": [
    "Вывод: Примерно в середине теста сегмент B начал лидировать по выручке, возможно на это влияют анамально большие заказы, поэтому их нужно будет удалить в конце теста."
   ]
  },
  {
   "cell_type": "markdown",
   "metadata": {},
   "source": [
    "2.Постройте график кумулятивного среднего чека по группам. Сделайте выводы и предположения."
   ]
  },
  {
   "cell_type": "code",
   "execution_count": 16,
   "metadata": {
    "scrolled": true
   },
   "outputs": [
    {
     "data": {
      "image/png": "[encoded data removed]",
      "text/plain": [
       "<Figure size 432x288 with 1 Axes>"
      ]
     },
     "metadata": {
      "needs_background": "light"
     },
     "output_type": "display_data"
    }
   ],
   "source": [
    "cumulativeRevenueA = cumulativeData[cumulativeData['group'] == 'A'][\n",
    "    ['date', 'revenue', 'orders']\n",
    "]\n",
    "cumulativeRevenueB = cumulativeData[cumulativeData['group'] == 'B'][\n",
    "    ['date', 'revenue', 'orders']\n",
    "]\n",
    "\n",
    "plt.plot(cumulativeRevenueA['date'], cumulativeRevenueA['revenue']/cumulativeRevenueA['orders'], label='A')\n",
    "plt.plot(cumulativeRevenueB['date'], cumulativeRevenueB['revenue']/cumulativeRevenueB['orders'], label='B')\n",
    "plt.legend()\n",
    "plt.title('График кумулятивного среднего чека по группам')\n",
    "plt.xlabel('Дата')\n",
    "plt.ylabel('Средний чек')\n",
    "plt.xticks(rotation=45)\n",
    "plt.tight_layout()  \n",
    "plt.show();"
   ]
  },
  {
   "cell_type": "markdown",
   "metadata": {},
   "source": [
    "Вывод: В начале теста кумулятивное значение колеблется в обоих сегментах, затем сегмент В резко вырастает, необходимо провести дополнительный анализ выбросов, для сегманта А кумулятивный средний чек стабилизировался."
   ]
  },
  {
   "cell_type": "markdown",
   "metadata": {},
   "source": [
    "3.Постройте график относительного изменения кумулятивного среднего чека группы B к группе A. Сделайте выводы и предположения."
   ]
  },
  {
   "cell_type": "code",
   "execution_count": 17,
   "metadata": {},
   "outputs": [
    {
     "data": {
      "image/png": "[encoded data removed]",
      "text/plain": [
       "<Figure size 432x288 with 1 Axes>"
      ]
     },
     "metadata": {
      "needs_background": "light"
     },
     "output_type": "display_data"
    }
   ],
   "source": [
    "# собираем данные в одном датафрейме\n",
    "mergedCumulativeRevenue = cumulativeRevenueA.merge(cumulativeRevenueB, left_on='date', right_on='date', how='left', suffixes=['A', 'B'])\n",
    "\n",
    "# cтроим отношение средних чеков\n",
    "plt.plot(mergedCumulativeRevenue['date'], (mergedCumulativeRevenue['revenueB']/mergedCumulativeRevenue['ordersB'])/(mergedCumulativeRevenue['revenueA']/mergedCumulativeRevenue['ordersA'])-1)\n",
    "\n",
    "# добавляем ось X\n",
    "plt.axhline(y=0, color='black', linestyle='--')\n",
    "plt.title('Изменение среднего чека группы B к группе А')\n",
    "plt.xlabel('Дата')\n",
    "plt.ylabel('Средний чек')\n",
    "plt.xticks(rotation=45)\n",
    "plt.tight_layout()  \n",
    "plt.show(); "
   ]
  },
  {
   "cell_type": "markdown",
   "metadata": {},
   "source": [
    "Вывод: На графике видно, что в некоторые даты были значительные колебания, скорее всего в этот период были совершены аномальные заказы. В данных есть аномалии по количеству заказов и чеку."
   ]
  },
  {
   "cell_type": "markdown",
   "metadata": {},
   "source": [
    "4.Постройте график кумулятивного среднего количества заказов на посетителя по группам. Сделайте выводы и предположения."
   ]
  },
  {
   "cell_type": "code",
   "execution_count": 18,
   "metadata": {
    "scrolled": true
   },
   "outputs": [
    {
     "data": {
      "image/png": "[encoded data removed]",
      "text/plain": [
       "<Figure size 432x288 with 1 Axes>"
      ]
     },
     "metadata": {
      "needs_background": "light"
     },
     "output_type": "display_data"
    }
   ],
   "source": [
    "# считаем кумулятивную конверсию\n",
    "\n",
    "cumulativeData['conversion'] = cumulativeData['orders']/cumulativeData['visitors']\n",
    "\n",
    "# отделяем данные по группе A\n",
    "\n",
    "cumulativeDataA = cumulativeData[cumulativeData['group']=='A']\n",
    "\n",
    "# отделяем данные по группе B\n",
    "\n",
    "cumulativeDataB = cumulativeData[cumulativeData['group']=='B']\n",
    "\n",
    "# строим графики\n",
    "\n",
    "plt.plot(cumulativeDataA['date'], cumulativeDataA['conversion'], label='A')\n",
    "\n",
    "plt.plot(cumulativeDataB['date'], cumulativeDataB['conversion'], label='B')\n",
    "\n",
    "plt.legend()\n",
    "plt.title('График кумулятивного среднего количества заказов на посетителя по группам')\n",
    "plt.xlabel('Дата')\n",
    "plt.ylabel('Средний заказ')\n",
    "plt.xticks(rotation=45)\n",
    "plt.tight_layout()  \n",
    "plt.show();"
   ]
  },
  {
   "cell_type": "markdown",
   "metadata": {},
   "source": [
    "Вывод: Сначала сегмент A имел более высокое среднее куммулятивное количество заказов, но затем значение среднего кумулятивного заказа сегмента B стал больше чем у сегмента А."
   ]
  },
  {
   "cell_type": "markdown",
   "metadata": {},
   "source": [
    "5.Постройте график относительного изменения кумулятивного среднего количества заказов на посетителя группы B к группе A. Сделайте выводы и предположения."
   ]
  },
  {
   "cell_type": "code",
   "execution_count": 19,
   "metadata": {
    "scrolled": true
   },
   "outputs": [
    {
     "data": {
      "image/png": "[encoded data removed]",
      "text/plain": [
       "<Figure size 432x288 with 1 Axes>"
      ]
     },
     "metadata": {
      "needs_background": "light"
     },
     "output_type": "display_data"
    }
   ],
   "source": [
    "mergedCumulativeConversions = cumulativeDataA[['date','conversion']].merge(cumulativeDataB[['date','conversion']], left_on='date', right_on='date', how='left', suffixes=['A', 'B'])\n",
    "\n",
    "plt.plot(mergedCumulativeConversions['date'], mergedCumulativeConversions['conversionB']/mergedCumulativeConversions['conversionA']-1,  label=\"Относительный прирост конверсии группы B относительно группы A\")\n",
    "\n",
    "plt.axhline(y=0, color='black', linestyle='--')\n",
    "\n",
    "plt.axhline(y=0.1, color='grey', linestyle='--')\n",
    "\n",
    "plt.axis([\"2019-08-01\", '2019-08-31', -0.5, 0.5])\n",
    "\n",
    "plt.title('График относительного изменения кумулятивного среднего количества заказов на посетителя группы B к группе A')\n",
    "plt.xlabel('Дата')\n",
    "plt.ylabel('Среднее количество заказов')\n",
    "plt.xticks(rotation=45)\n",
    "plt.tight_layout()  \n",
    "plt.show(); "
   ]
  },
  {
   "cell_type": "markdown",
   "metadata": {},
   "source": [
    "Вывод: Группа B лидирует относительно группы А. Группа B имеет прирост около 20 %, но затем снижается до 10-12 %. В первую неделю происходят резкие колебания, что наблюдалось на предыдущем графике."
   ]
  },
  {
   "cell_type": "markdown",
   "metadata": {},
   "source": [
    "6.Постройте точечный график количества заказов по пользователям. Сделайте выводы и предположения."
   ]
  },
  {
   "cell_type": "code",
   "execution_count": 20,
   "metadata": {},
   "outputs": [
    {
     "name": "stdout",
     "output_type": "stream",
     "text": [
      "       visitorId  orders\n",
      "1023  4256040402  11    \n",
      "591   2458001652  11    \n",
      "569   2378935119  9     \n",
      "487   2038680547  8     \n",
      "44    199603092   5     \n",
      "744   3062433592  5     \n",
      "55    237748145   5     \n",
      "917   3803269165  5     \n",
      "299   1230306981  5     \n",
      "897   3717692402  5     \n"
     ]
    },
    {
     "data": {
      "image/png": "[encoded data removed]",
      "text/plain": [
       "<Figure size 432x288 with 1 Axes>"
      ]
     },
     "metadata": {
      "needs_background": "light"
     },
     "output_type": "display_data"
    }
   ],
   "source": [
    "ordersByUsers = (\n",
    "    orders.groupby('visitorId', as_index=False)\n",
    "    .agg({'transactionId': 'nunique'})\n",
    ") # Метод .groupby('...', as_index=False) сгруппирует заказы по пользователям\n",
    "ordersByUsers.columns = ['visitorId', 'orders'] # Метод .agg({'...' : 'nunique',}) подсчитает число уникальных заказов по сгруппированным данным\n",
    "print(ordersByUsers.sort_values(by='orders', ascending=False).head(10)) # Метод .sort_values(by='...',ascending=False) отсортирует датафрейм по значению в столбце\n",
    "x_values = pd.Series(range(0,len(ordersByUsers)))\n",
    "plt.scatter(x_values, ordersByUsers['orders'])  # серия из чисел от 0 до количества наблюдений в ordersByUsers\n",
    "x_values = pd.Series(range(0, len(ordersByUsers)))\n",
    "plt.title('График количества заказов по пользователям')\n",
    "plt.xlabel('Количество пользователей')\n",
    "plt.ylabel('Количество заказов')\n",
    "plt.xticks(rotation=45)\n",
    "plt.tight_layout()  \n",
    "plt.show(); "
   ]
  },
  {
   "cell_type": "markdown",
   "metadata": {},
   "source": [
    "Вывод: На графике видно, что большинство пользователей совершило 1 заказ. 2-ух и 3-ех заказов намного меньше, необходимо проверить аномальные они или нет. Примерно с 3-ех заказов начинаются аномальные значения."
   ]
  },
  {
   "cell_type": "markdown",
   "metadata": {},
   "source": [
    "7.Посчитайте 95-й и 99-й перцентили количества заказов на пользователя. Выберите границу для определения аномальных пользователей."
   ]
  },
  {
   "cell_type": "code",
   "execution_count": 21,
   "metadata": {
    "scrolled": true
   },
   "outputs": [
    {
     "name": "stdout",
     "output_type": "stream",
     "text": [
      "[2. 3. 4.]\n"
     ]
    }
   ],
   "source": [
    "print(np.percentile(ordersByUsers['orders'], [95, 97.5, 99])) # Метод np.percentile('column', [percentile1, percentile2, percentile3]) находит перцентили."
   ]
  },
  {
   "cell_type": "markdown",
   "metadata": {},
   "source": [
    "Вывод: Не более 5 % пользователей совершили 2 заказа, 2.5 % совршило 3 заказа, не более 1 % пользователей совершило 4 заказа."
   ]
  },
  {
   "cell_type": "markdown",
   "metadata": {},
   "source": [
    "8.Постройте точечный график стоимостей заказов. Сделайте выводы и предположения."
   ]
  },
  {
   "cell_type": "code",
   "execution_count": 22,
   "metadata": {
    "scrolled": true
   },
   "outputs": [
    {
     "name": "stdout",
     "output_type": "stream",
     "text": [
      "      transactionId   visitorId       date  revenue group\n",
      "425   590470918      1920142716 2019-08-19  1294500  B   \n",
      "1196  3936777065     2108080724 2019-08-15  202740   B   \n",
      "858   192721366      1316129916 2019-08-27  93940    A   \n",
      "1136  666610489      1307669133 2019-08-13  92550    A   \n",
      "744   3668308183     888512513  2019-08-27  86620    B   \n",
      "682   1216533772     4266935830 2019-08-29  78990    B   \n",
      "662   1811671147     4266935830 2019-08-29  78990    A   \n",
      "743   3603576309     4133034833 2019-08-09  67990    A   \n",
      "1103  1348774318     1164614297 2019-08-12  66350    A   \n",
      "1099  316924019      148427295  2019-08-12  65710    A   \n"
     ]
    },
    {
     "data": {
      "image/png": "[encoded data removed]",
      "text/plain": [
       "<Figure size 432x288 with 1 Axes>"
      ]
     },
     "metadata": {
      "needs_background": "light"
     },
     "output_type": "display_data"
    }
   ],
   "source": [
    "print(orders.sort_values(by='revenue', ascending=False).head(10))\n",
    "x_values = pd.Series(range(0, len(orders['revenue'])))\n",
    "plt.scatter(x_values, orders['revenue'])\n",
    "plt.title('График стоимости заказов')\n",
    "plt.xlabel('Количество заказов')\n",
    "plt.ylabel('Стоимость заказа')\n",
    "plt.xticks(rotation=45)\n",
    "plt.tight_layout()  \n",
    "plt.show(); "
   ]
  },
  {
   "cell_type": "markdown",
   "metadata": {},
   "source": [
    "Вывод: Заказов выше 100.000 всего 2, скорее всего это выбросы. Необходимо скорректировать данные без учета этих аномальных значений."
   ]
  },
  {
   "cell_type": "code",
   "execution_count": 23,
   "metadata": {},
   "outputs": [
    {
     "data": {
      "image/png": "[encoded data removed]",
      "text/plain": [
       "<Figure size 432x288 with 1 Axes>"
      ]
     },
     "metadata": {
      "needs_background": "light"
     },
     "output_type": "display_data"
    }
   ],
   "source": [
    "filt_orders = orders[orders['revenue'] < 200000]\n",
    "x_values = pd.Series(range(0, len(filt_orders['revenue'])))\n",
    "plt.scatter(x_values, filt_orders['revenue'])\n",
    "plt.title('График стоимости заказов')\n",
    "plt.xlabel('Количество заказов')\n",
    "plt.ylabel('Стоимость заказа')\n",
    "plt.xticks(rotation=45)\n",
    "plt.tight_layout()  \n",
    "plt.show(); #Построил график без аномалий"
   ]
  },
  {
   "cell_type": "markdown",
   "metadata": {},
   "source": [
    "9.Посчитайте 95-й и 99-й перцентили стоимости заказов. Выберите границу для определения аномальных заказов."
   ]
  },
  {
   "cell_type": "code",
   "execution_count": 24,
   "metadata": {
    "scrolled": true
   },
   "outputs": [
    {
     "name": "stdout",
     "output_type": "stream",
     "text": [
      "[28000.  39530.  58233.2]\n"
     ]
    }
   ],
   "source": [
    "print(np.percentile(orders['revenue'], [95, 97.5, 99]))"
   ]
  },
  {
   "cell_type": "markdown",
   "metadata": {},
   "source": [
    "Вывод: Заказов свыше 28000 примерно 5 %, заказов свыше 58000 примерно 1 %. Можно отсечь заказы свыше 39000 тысяч."
   ]
  },
  {
   "cell_type": "markdown",
   "metadata": {},
   "source": [
    "10.Посчитайте статистическую значимость различий в среднем количестве заказов на посетителя между группами по «сырым» данным. Сделайте выводы и предположения."
   ]
  },
  {
   "cell_type": "markdown",
   "metadata": {},
   "source": [
    "Гипотезы: Нулевая: различий в среднем количестве заказов между группами нет. Альтернативная: различия в среднем количестве заказов между группами есть. Уровень значимости = 0.05."
   ]
  },
  {
   "cell_type": "code",
   "execution_count": 25,
   "metadata": {
    "scrolled": true
   },
   "outputs": [
    {
     "data": {
      "text/html": [
       "<div>\n",
       "<style scoped>\n",
       "    .dataframe tbody tr th:only-of-type {\n",
       "        vertical-align: middle;\n",
       "    }\n",
       "\n",
       "    .dataframe tbody tr th {\n",
       "        vertical-align: top;\n",
       "    }\n",
       "\n",
       "    .dataframe thead th {\n",
       "        text-align: right;\n",
       "    }\n",
       "</style>\n",
       "<table border=\"1\" class=\"dataframe\">\n",
       "  <thead>\n",
       "    <tr style=\"text-align: right;\">\n",
       "      <th></th>\n",
       "      <th>date</th>\n",
       "      <th>ordersPerDateA</th>\n",
       "      <th>revenuePerDateA</th>\n",
       "      <th>ordersPerDateB</th>\n",
       "      <th>revenuePerDateB</th>\n",
       "      <th>ordersCummulativeA</th>\n",
       "      <th>revenueCummulativeA</th>\n",
       "      <th>ordersCummulativeB</th>\n",
       "      <th>revenueCummulativeB</th>\n",
       "      <th>visitorsPerDateA</th>\n",
       "      <th>visitorsPerDateB</th>\n",
       "      <th>visitorsCummulativeA</th>\n",
       "      <th>visitorsCummulativeB</th>\n",
       "    </tr>\n",
       "  </thead>\n",
       "  <tbody>\n",
       "    <tr>\n",
       "      <th>0</th>\n",
       "      <td>2019-08-01</td>\n",
       "      <td>24</td>\n",
       "      <td>148579</td>\n",
       "      <td>21</td>\n",
       "      <td>101217</td>\n",
       "      <td>24</td>\n",
       "      <td>148579</td>\n",
       "      <td>21</td>\n",
       "      <td>101217</td>\n",
       "      <td>719</td>\n",
       "      <td>713</td>\n",
       "      <td>719</td>\n",
       "      <td>713</td>\n",
       "    </tr>\n",
       "    <tr>\n",
       "      <th>1</th>\n",
       "      <td>2019-08-02</td>\n",
       "      <td>20</td>\n",
       "      <td>93822</td>\n",
       "      <td>24</td>\n",
       "      <td>165531</td>\n",
       "      <td>44</td>\n",
       "      <td>242401</td>\n",
       "      <td>45</td>\n",
       "      <td>266748</td>\n",
       "      <td>619</td>\n",
       "      <td>581</td>\n",
       "      <td>1338</td>\n",
       "      <td>1294</td>\n",
       "    </tr>\n",
       "    <tr>\n",
       "      <th>2</th>\n",
       "      <td>2019-08-03</td>\n",
       "      <td>24</td>\n",
       "      <td>112473</td>\n",
       "      <td>16</td>\n",
       "      <td>114248</td>\n",
       "      <td>68</td>\n",
       "      <td>354874</td>\n",
       "      <td>61</td>\n",
       "      <td>380996</td>\n",
       "      <td>507</td>\n",
       "      <td>509</td>\n",
       "      <td>1845</td>\n",
       "      <td>1803</td>\n",
       "    </tr>\n",
       "    <tr>\n",
       "      <th>3</th>\n",
       "      <td>2019-08-04</td>\n",
       "      <td>16</td>\n",
       "      <td>70825</td>\n",
       "      <td>17</td>\n",
       "      <td>108571</td>\n",
       "      <td>84</td>\n",
       "      <td>425699</td>\n",
       "      <td>78</td>\n",
       "      <td>489567</td>\n",
       "      <td>717</td>\n",
       "      <td>770</td>\n",
       "      <td>2562</td>\n",
       "      <td>2573</td>\n",
       "    </tr>\n",
       "    <tr>\n",
       "      <th>4</th>\n",
       "      <td>2019-08-05</td>\n",
       "      <td>25</td>\n",
       "      <td>124218</td>\n",
       "      <td>23</td>\n",
       "      <td>92428</td>\n",
       "      <td>109</td>\n",
       "      <td>549917</td>\n",
       "      <td>101</td>\n",
       "      <td>581995</td>\n",
       "      <td>756</td>\n",
       "      <td>707</td>\n",
       "      <td>3318</td>\n",
       "      <td>3280</td>\n",
       "    </tr>\n",
       "  </tbody>\n",
       "</table>\n",
       "</div>"
      ],
      "text/plain": [
       "        date  ordersPerDateA  revenuePerDateA  ordersPerDateB  \\\n",
       "0 2019-08-01  24              148579           21               \n",
       "1 2019-08-02  20              93822            24               \n",
       "2 2019-08-03  24              112473           16               \n",
       "3 2019-08-04  16              70825            17               \n",
       "4 2019-08-05  25              124218           23               \n",
       "\n",
       "   revenuePerDateB  ordersCummulativeA  revenueCummulativeA  \\\n",
       "0  101217           24                  148579                \n",
       "1  165531           44                  242401                \n",
       "2  114248           68                  354874                \n",
       "3  108571           84                  425699                \n",
       "4  92428            109                 549917                \n",
       "\n",
       "   ordersCummulativeB  revenueCummulativeB  visitorsPerDateA  \\\n",
       "0  21                  101217               719                \n",
       "1  45                  266748               619                \n",
       "2  61                  380996               507                \n",
       "3  78                  489567               717                \n",
       "4  101                 581995               756                \n",
       "\n",
       "   visitorsPerDateB  visitorsCummulativeA  visitorsCummulativeB  \n",
       "0  713               719                   713                   \n",
       "1  581               1338                  1294                  \n",
       "2  509               1845                  1803                  \n",
       "3  770               2562                  2573                  \n",
       "4  707               3318                  3280                  "
      ]
     },
     "metadata": {},
     "output_type": "display_data"
    }
   ],
   "source": [
    "visitorsADaily = visitors[visitors['group'] == 'A'][['date', 'visitors']]\n",
    "visitorsADaily.columns = ['date', 'visitorsPerDateA']\n",
    "\n",
    "visitorsACummulative = visitorsADaily.apply(\n",
    "    lambda x: visitorsADaily[visitorsADaily['date'] <= x['date']].agg(\n",
    "        {'date': 'max', 'visitorsPerDateA': 'sum'}\n",
    "    ),\n",
    "    axis=1,\n",
    ")\n",
    "visitorsACummulative.columns = ['date', 'visitorsCummulativeA']\n",
    "\n",
    "visitorsBDaily = visitors[visitors['group'] == 'B'][['date', 'visitors']]\n",
    "visitorsBDaily.columns = ['date', 'visitorsPerDateB']\n",
    "\n",
    "visitorsBCummulative = visitorsBDaily.apply(\n",
    "    lambda x: visitorsBDaily[visitorsBDaily['date'] <= x['date']].agg(\n",
    "        {'date': 'max', 'visitorsPerDateB': 'sum'}\n",
    "    ),\n",
    "    axis=1,\n",
    ")\n",
    "visitorsBCummulative.columns = ['date', 'visitorsCummulativeB']\n",
    "\n",
    "ordersADaily = (\n",
    "    orders[orders['group'] == 'A'][['date', 'transactionId', 'visitorId', 'revenue']]\n",
    "    .groupby('date', as_index=False)\n",
    "    .agg({'transactionId': pd.Series.nunique, 'revenue': 'sum'})\n",
    ")\n",
    "ordersADaily.columns = ['date', 'ordersPerDateA', 'revenuePerDateA']\n",
    "\n",
    "ordersACummulative = ordersADaily.apply(\n",
    "    lambda x: ordersADaily[ordersADaily['date'] <= x['date']].agg(\n",
    "        {'date': 'max', 'ordersPerDateA': 'sum', 'revenuePerDateA': 'sum'}\n",
    "    ),\n",
    "    axis=1,\n",
    ").sort_values(by=['date'])\n",
    "ordersACummulative.columns = [\n",
    "    'date',\n",
    "    'ordersCummulativeA',\n",
    "    'revenueCummulativeA',\n",
    "]\n",
    "\n",
    "ordersBDaily = (\n",
    "    orders[orders['group'] == 'B'][['date', 'transactionId', 'visitorId', 'revenue']]\n",
    "    .groupby('date', as_index=False)\n",
    "    .agg({'transactionId': pd.Series.nunique, 'revenue': 'sum'})\n",
    ")\n",
    "ordersBDaily.columns = ['date', 'ordersPerDateB', 'revenuePerDateB']\n",
    "\n",
    "ordersBCummulative = ordersBDaily.apply(\n",
    "    lambda x: ordersBDaily[ordersBDaily['date'] <= x['date']].agg(\n",
    "        {'date': 'max', 'ordersPerDateB': 'sum', 'revenuePerDateB': 'sum'}\n",
    "    ),\n",
    "    axis=1,\n",
    ").sort_values(by=['date'])\n",
    "ordersBCummulative.columns = [\n",
    "    'date',\n",
    "    'ordersCummulativeB',\n",
    "    'revenueCummulativeB',\n",
    "]\n",
    "\n",
    "data = (\n",
    "    ordersADaily.merge(\n",
    "        ordersBDaily, left_on='date', right_on='date', how='left'\n",
    "    )\n",
    "    .merge(ordersACummulative, left_on='date', right_on='date', how='left')\n",
    "    .merge(ordersBCummulative, left_on='date', right_on='date', how='left')\n",
    "    .merge(visitorsADaily, left_on='date', right_on='date', how='left')\n",
    "    .merge(visitorsBDaily, left_on='date', right_on='date', how='left')\n",
    "    .merge(visitorsACummulative, left_on='date', right_on='date', how='left')\n",
    "    .merge(visitorsBCummulative, left_on='date', right_on='date', how='left')\n",
    ")\n",
    "\n",
    "display(data.head(5))"
   ]
  },
  {
   "cell_type": "markdown",
   "metadata": {},
   "source": [
    "Посчитаю статистическую значимость различия в среднем количестве заказов между группами.\n",
    "Создадам переменные ordersByUsersA и ordersByUsersB со столбцами ['visitorId', 'orders']. В них для пользователей, которые заказывали хотя бы 1 раз, укажу число совершённых заказов. "
   ]
  },
  {
   "cell_type": "code",
   "execution_count": 26,
   "metadata": {
    "scrolled": true
   },
   "outputs": [
    {
     "name": "stdout",
     "output_type": "stream",
     "text": [
      "   visitorId  orders\n",
      "0  8300375    1     \n",
      "1  11685486   1     \n",
      "2  54447517   1     \n",
      "3  66685450   1     \n",
      "4  78758296   1     \n",
      "   visitorId  orders\n",
      "0  5114589    1     \n",
      "1  6958315    1     \n",
      "2  8300375    1     \n",
      "3  39475350   1     \n",
      "4  47206413   1     \n"
     ]
    }
   ],
   "source": [
    "ordersByUsersA = (\n",
    "    orders[orders['group'] == 'A']\n",
    "    .groupby('visitorId', as_index=False)\n",
    "    .agg({'transactionId': pd.Series.nunique})\n",
    ")\n",
    "ordersByUsersA.columns = ['visitorId', 'orders']\n",
    "\n",
    "ordersByUsersB = (\n",
    "    orders[orders['group'] == 'B']\n",
    "    .groupby('visitorId', as_index=False)\n",
    "    .agg({'transactionId': pd.Series.nunique})\n",
    ")\n",
    "ordersByUsersB.columns = ['visitorId', 'orders'] \n",
    "print(ordersByUsersA.head())\n",
    "print(ordersByUsersB.head())"
   ]
  },
  {
   "cell_type": "markdown",
   "metadata": {},
   "source": [
    "Объявлю переменные sampleA и sampleB, в которых пользователям из разных групп будет соответствовать количество заказов. Тем, кто ничего не заказал, будут соответствовать нули. Это нужно, чтобы подготовить выборки к проверке критерием Манна-Уитни."
   ]
  },
  {
   "cell_type": "markdown",
   "metadata": {},
   "source": [
    "Нули для пользователей, которые ничего не заказывали. Их количество равно разнице между суммой посетителей и количеством записей о заказах: data['visitorsPerDateA'].sum() - len(ordersByUsersA['orders']). Создадим объект pd.Series нужной длины:"
   ]
  },
  {
   "cell_type": "code",
   "execution_count": 27,
   "metadata": {
    "scrolled": true
   },
   "outputs": [
    {
     "data": {
      "text/plain": [
       "0        0\n",
       "1        0\n",
       "2        0\n",
       "3        0\n",
       "4        0\n",
       "        ..\n",
       "18228    0\n",
       "18229    0\n",
       "18230    0\n",
       "18231    0\n",
       "18232    0\n",
       "Name: orders, Length: 18233, dtype: int64"
      ]
     },
     "execution_count": 27,
     "metadata": {},
     "output_type": "execute_result"
    }
   ],
   "source": [
    "pd.Series(0, index=np.arange(data['visitorsPerDateA'].sum() - len(ordersByUsersA['orders'])), name='orders')"
   ]
  },
  {
   "cell_type": "code",
   "execution_count": 28,
   "metadata": {},
   "outputs": [
    {
     "data": {
      "text/plain": [
       "[0      1\n",
       " 1      1\n",
       " 2      1\n",
       " 3      1\n",
       " 4      1\n",
       "       ..\n",
       " 498    1\n",
       " 499    7\n",
       " 500    1\n",
       " 501    1\n",
       " 502    1\n",
       " Name: orders, Length: 503, dtype: int64,\n",
       " 0        0\n",
       " 1        0\n",
       " 2        0\n",
       " 3        0\n",
       " 4        0\n",
       "         ..\n",
       " 18228    0\n",
       " 18229    0\n",
       " 18230    0\n",
       " 18231    0\n",
       " 18232    0\n",
       " Name: orders, Length: 18233, dtype: int64]"
      ]
     },
     "execution_count": 28,
     "metadata": {},
     "output_type": "execute_result"
    }
   ],
   "source": [
    "[ordersByUsersA['orders'],pd.Series(0, index=np.arange(data['visitorsPerDateA'].sum() - len(ordersByUsersA['orders'])), name='orders')]"
   ]
  },
  {
   "cell_type": "code",
   "execution_count": 29,
   "metadata": {},
   "outputs": [],
   "source": [
    "sampleA = pd.concat([ordersByUsersA['orders'],pd.Series(0, index=np.arange(data['visitorsPerDateA'].sum() - len(ordersByUsersA['orders'])), name='orders')],axis=0)\n",
    "\n",
    "sampleB = pd.concat([ordersByUsersB['orders'],pd.Series(0, index=np.arange(data['visitorsPerDateB'].sum() - len(ordersByUsersB['orders'])), name='orders')],axis=0)"
   ]
  },
  {
   "cell_type": "code",
   "execution_count": 30,
   "metadata": {},
   "outputs": [],
   "source": [
    "ordersByUsersA = (\n",
    "    orders[orders['group'] == 'A']\n",
    "    .groupby('visitorId', as_index=False)\n",
    "    .agg({'transactionId': pd.Series.nunique})\n",
    ")\n",
    "ordersByUsersA.columns = ['visitorId', 'orders']\n",
    "\n",
    "ordersByUsersB = (\n",
    "    orders[orders['group'] == 'B']\n",
    "    .groupby('visitorId', as_index=False)\n",
    "    .agg({'transactionId': pd.Series.nunique})\n",
    ")\n",
    "ordersByUsersB.columns = ['visitorId', 'orders']\n",
    "\n",
    "sampleA = pd.concat(\n",
    "    [\n",
    "        ordersByUsersA['orders'],\n",
    "        pd.Series(\n",
    "            0,\n",
    "            index=np.arange(\n",
    "                data['visitorsPerDateA'].sum() - len(ordersByUsersA['orders'])\n",
    "            ),\n",
    "            name='orders',\n",
    "        ),\n",
    "    ],\n",
    "    axis=0,\n",
    ")\n",
    "\n",
    "sampleB = pd.concat(\n",
    "    [\n",
    "        ordersByUsersB['orders'],\n",
    "        pd.Series(\n",
    "            0,\n",
    "            index=np.arange(\n",
    "                data['visitorsPerDateB'].sum() - len(ordersByUsersB['orders'])\n",
    "            ),\n",
    "            name='orders',\n",
    "        ),\n",
    "    ],\n",
    "    axis=0,\n",
    ")"
   ]
  },
  {
   "cell_type": "code",
   "execution_count": 31,
   "metadata": {},
   "outputs": [
    {
     "name": "stdout",
     "output_type": "stream",
     "text": [
      "P-value:  0.01679\n",
      "Относительный прирост среднего количества заказов:  0.138\n"
     ]
    }
   ],
   "source": [
    "print('P-value: ', \"{0:.5f}\".format(stats.mannwhitneyu(sampleA, sampleB)[1]))\n",
    "print('Относительный прирост среднего количества заказов: ', \"{0:.3f}\".format((data['ordersPerDateB'].sum()/data['visitorsPerDateB'].sum())/(data['ordersPerDateA'].sum()/data['visitorsPerDateA'].sum())-1))"
   ]
  },
  {
   "cell_type": "markdown",
   "metadata": {},
   "source": [
    "Вывод: P-value 1.68% меньше 5%, нулевую гипотезу отвергаем. В среднем количестве заказов есть статистические различия, разница в среднем количестве заказов на посетителя между группами есть. Относительный прирост группы В к конверсии группы А равен 13.8 %."
   ]
  },
  {
   "cell_type": "markdown",
   "metadata": {},
   "source": [
    "11.Посчитайте статистическую значимость различий в среднем чеке заказа между группами по «сырым» данным. Сделайте выводы и предположения."
   ]
  },
  {
   "cell_type": "code",
   "execution_count": 32,
   "metadata": {},
   "outputs": [
    {
     "name": "stdout",
     "output_type": "stream",
     "text": [
      "P-value:  0.729\n",
      "Отношение среднего заказа группы В к группе А:  0.259\n"
     ]
    }
   ],
   "source": [
    "print('P-value: ', '{0:.3f}'.format(stats.mannwhitneyu(orders[orders['group']=='A']['revenue'], orders[orders['group']=='B']['revenue'])[1]))\n",
    "print('Отношение среднего заказа группы В к группе А: ', '{0:.3f}'.format(orders[orders['group']=='B']['revenue'].mean()/orders[orders['group']=='A']['revenue'].mean()-1))"
   ]
  },
  {
   "cell_type": "markdown",
   "metadata": {},
   "source": [
    "Вывод: Разница в среднем чеке 25.9% не является статистически значимой на уровне значимости 0.05, не можем сделать вывод о наличии реального эффекта на основании этих данных. Не получилось отвергнуть нулевую гипотезу."
   ]
  },
  {
   "cell_type": "markdown",
   "metadata": {},
   "source": [
    "12.Посчитайте статистическую значимость различий в среднем количестве заказов на посетителя между группами по «очищенным» данным. Сделайте выводы и предположения."
   ]
  },
  {
   "cell_type": "code",
   "execution_count": 33,
   "metadata": {},
   "outputs": [
    {
     "name": "stdout",
     "output_type": "stream",
     "text": [
      "1099    148427295\n",
      "18      199603092\n",
      "23      237748145\n",
      "684     358944393\n",
      "648     382846391\n",
      "Name: visitorId, dtype: int64\n",
      "36\n"
     ]
    }
   ],
   "source": [
    "usersWithManyOrders = pd.concat(\n",
    "    [\n",
    "        ordersByUsersA[ordersByUsersA['orders'] > 3]['visitorId'],\n",
    "        ordersByUsersB[ordersByUsersB['orders'] > 3]['visitorId'],\n",
    "    ],\n",
    "    axis=0,\n",
    ")\n",
    "usersWithExpensiveOrders = orders[orders['revenue'] > 39000]['visitorId']\n",
    "abnormalUsers = (\n",
    "    pd.concat([usersWithManyOrders, usersWithExpensiveOrders], axis=0)\n",
    "    .drop_duplicates()\n",
    "    .sort_values()\n",
    ")\n",
    "print(abnormalUsers.head(5)) \n",
    "print(abnormalUsers.shape[0]) #посчитал множество аномальных пользователей, 36 пользователей"
   ]
  },
  {
   "cell_type": "code",
   "execution_count": 34,
   "metadata": {},
   "outputs": [
    {
     "name": "stdout",
     "output_type": "stream",
     "text": [
      "P-value:  0.01005\n",
      "Отношение среднего заказа группы В к группе А:  0.162\n"
     ]
    }
   ],
   "source": [
    "sampleAFiltered = pd.concat(\n",
    "    [\n",
    "        ordersByUsersA[\n",
    "            np.logical_not(ordersByUsersA['visitorId'].isin(abnormalUsers))\n",
    "        ]['orders'],\n",
    "        pd.Series(\n",
    "            0,\n",
    "            index=np.arange(\n",
    "                data['visitorsPerDateA'].sum() - len(ordersByUsersA['orders'])\n",
    "            ),\n",
    "            name='orders',\n",
    "        ),\n",
    "    ],\n",
    "    axis=0,\n",
    ")\n",
    "\n",
    "sampleBFiltered = pd.concat(\n",
    "    [\n",
    "        ordersByUsersB[\n",
    "            np.logical_not(ordersByUsersB['visitorId'].isin(abnormalUsers))\n",
    "        ]['orders'],\n",
    "        pd.Series(\n",
    "            0,\n",
    "            index=np.arange(\n",
    "                data['visitorsPerDateB'].sum() - len(ordersByUsersB['orders'])\n",
    "            ),\n",
    "            name='orders',\n",
    "        ),\n",
    "    ],\n",
    "    axis=0,\n",
    ")\n",
    "print('P-value: ', '{0:.5f}'.format(stats.mannwhitneyu(sampleAFiltered, sampleBFiltered)[1]))\n",
    "print('Отношение среднего заказа группы В к группе А: ', '{0:.3f}'.format(sampleBFiltered.mean()/sampleAFiltered.mean()-1))"
   ]
  },
  {
   "cell_type": "markdown",
   "metadata": {},
   "source": [
    "Вывод: P-value меньше 0.05, нулевую гипотезу отвергаем, как и в результате без очищенных данных. В среднем количестве заказов есть статистические различия. Относительный прирост группы В к конверсии группы А теперь составляет 16.2% вместо 13.8 %."
   ]
  },
  {
   "cell_type": "markdown",
   "metadata": {},
   "source": [
    "13.Посчитайте статистическую значимость различий в среднем чеке заказа между группами по «очищенным» данным. Сделайте выводы и предположения."
   ]
  },
  {
   "cell_type": "code",
   "execution_count": 35,
   "metadata": {},
   "outputs": [
    {
     "name": "stdout",
     "output_type": "stream",
     "text": [
      "P-value:  0.732\n",
      "Отношение среднего чека группы В к группе А:  0.060\n"
     ]
    }
   ],
   "source": [
    "print(\n",
    "    'P-value: ', '{0:.3f}'.format(\n",
    "        stats.mannwhitneyu(\n",
    "            orders[\n",
    "                np.logical_and(\n",
    "                    orders['group'] == 'A',\n",
    "                    np.logical_not(orders['visitorId'].isin(abnormalUsers)),\n",
    "                )\n",
    "            ]['revenue'],\n",
    "            orders[\n",
    "                np.logical_and(\n",
    "                    orders['group'] == 'B',\n",
    "                    np.logical_not(orders['visitorId'].isin(abnormalUsers)),\n",
    "                )\n",
    "            ]['revenue'],\n",
    "        )[1]\n",
    "    )\n",
    ")\n",
    "\n",
    "print(\n",
    "    'Отношение среднего чека группы В к группе А: ', \"{0:.3f}\".format(\n",
    "        orders[\n",
    "            np.logical_and(\n",
    "                orders['group'] == 'B',\n",
    "                np.logical_not(orders['visitorId'].isin(abnormalUsers)),\n",
    "            )\n",
    "        ]['revenue'].mean()\n",
    "        / orders[\n",
    "            np.logical_and(\n",
    "                orders['group'] == 'A',\n",
    "                np.logical_not(orders['visitorId'].isin(abnormalUsers)),\n",
    "            )\n",
    "        ]['revenue'].mean()\n",
    "        - 1\n",
    "    )\n",
    ")"
   ]
  },
  {
   "cell_type": "markdown",
   "metadata": {},
   "source": [
    "Вывод: P-value немного увеличился, разница между сегментами сократилась с 25.9 % до 6 %. Статистической разницы между сырыми данными и очищенными нет."
   ]
  },
  {
   "cell_type": "markdown",
   "metadata": {},
   "source": [
    "14.Примите решение по результатам теста и объясните его. Варианты решений:\n",
    "1. Остановить тест, зафиксировать победу одной из групп.\n",
    "2. Остановить тест, зафиксировать отсутствие различий между группами.\n",
    "3. Продолжить тест."
   ]
  },
  {
   "cell_type": "markdown",
   "metadata": {},
   "source": [
    "Вывод: Часть 1. Для увеличения выручки можно реализовать следующие гипотезы: 1. Добавить форму подписки на все основные страницы, 2. Добавить блоки рекомендаций товаров на сайт, 3.Добавить два новых канала привлечения трафика."
   ]
  },
  {
   "cell_type": "markdown",
   "metadata": {},
   "source": [
    "Вывод: Часть 2. \n",
    "\n",
    "В ходе исследования провели анализ двух тестовых групп - А и В. Метрики, которые исследовали - выручка и средний чек, количество заказов.\n",
    "\n",
    "Выручка в обоих сегментах растет. Примерно в середине теста сегмент B начал лидировать по выручке, возможно на это влияют анамально большие заказы, поэтому их нужно будет удалить. \n",
    "\n",
    "На графиках видно, что в некоторые даты были значительные колебания, скорее всего в этот период были совершены аномальные заказы. В данных есть аномалии по количеству заказов и чеку.\n",
    "\n",
    "Сначала сегмент A имел более высокое среднее куммулятивное количество заказов, но затем значение среднего кумулятивного заказа сегмента B стал больше чем у сегмента А.Группа B имеет прирост по среднему количеству заказов около 20 %, но затем снижается до 10-12 % и график стабилизируется. \n",
    "\n",
    "Обнаружил, что большинство пользователей совершило 1 заказ. 2-ух и 3-ех заказов намного меньше, необходимо проверить аномальные они или нет. Примерно с 3-ех заказов начинаются аномальные значения.Не более 5 % пользователей совершили 2 заказа, 2.5 % совршило 3 заказа, не более 1 % пользователей совершило 4 заказа\n",
    "\n",
    "Отсек заказы со средним чеком свыше 39000 тысяч и с количеством заказов свыше 3-ех.\n",
    "\n",
    "Вывод: P-value меньше 0.05, нулевую гипотезу отвергаем, как и в результате без очищенных данных. Разница в среднем количестве заказов на посетителя между группами есть. Относительный прирост группы В к конверсии группы А теперь составляет 16.2% вместо 13.8 %. Следовательно в сегменте B среднее количество заказов больше, чем в сегменте А. Средний чек в группах не изменился.\n",
    "\n",
    "Остановить тест, зафиксировать победу группы В, так как выручка растет благодаря увеличению среднего количества заказов."
   ]
  }
 ],
 "metadata": {
  "ExecuteTimeLog": [
   {
    "duration": 866,
    "start_time": "2024-06-12T12:10:26.075Z"
   },
   {
    "duration": 1287,
    "start_time": "2024-06-12T12:14:52.773Z"
   },
   {
    "duration": 33,
    "start_time": "2024-06-12T12:16:57.455Z"
   },
   {
    "duration": 35,
    "start_time": "2024-06-12T12:17:06.816Z"
   },
   {
    "duration": 7,
    "start_time": "2024-06-12T12:17:32.357Z"
   },
   {
    "duration": 5,
    "start_time": "2024-06-12T12:17:42.159Z"
   },
   {
    "duration": 7,
    "start_time": "2024-06-12T12:17:48.593Z"
   },
   {
    "duration": 7,
    "start_time": "2024-06-12T12:18:00.607Z"
   },
   {
    "duration": 11,
    "start_time": "2024-06-12T12:18:08.606Z"
   },
   {
    "duration": 1072,
    "start_time": "2024-06-12T12:19:31.519Z"
   },
   {
    "duration": 8,
    "start_time": "2024-06-12T12:22:02.912Z"
   },
   {
    "duration": 7,
    "start_time": "2024-06-12T12:22:20.105Z"
   },
   {
    "duration": 639,
    "start_time": "2024-06-12T12:22:27.989Z"
   },
   {
    "duration": 35,
    "start_time": "2024-06-12T12:22:28.630Z"
   },
   {
    "duration": 12,
    "start_time": "2024-06-12T12:22:28.666Z"
   },
   {
    "duration": 4,
    "start_time": "2024-06-12T12:22:28.679Z"
   },
   {
    "duration": 79,
    "start_time": "2024-06-12T12:22:28.685Z"
   },
   {
    "duration": 7,
    "start_time": "2024-06-12T12:22:52.195Z"
   },
   {
    "duration": 11,
    "start_time": "2024-06-12T12:23:47.647Z"
   },
   {
    "duration": 673,
    "start_time": "2024-06-12T12:23:55.038Z"
   },
   {
    "duration": 36,
    "start_time": "2024-06-12T12:23:55.713Z"
   },
   {
    "duration": 33,
    "start_time": "2024-06-12T12:23:55.751Z"
   },
   {
    "duration": 8,
    "start_time": "2024-06-12T12:23:55.786Z"
   },
   {
    "duration": 11,
    "start_time": "2024-06-12T12:23:55.796Z"
   },
   {
    "duration": 11,
    "start_time": "2024-06-12T12:24:13.847Z"
   },
   {
    "duration": 705,
    "start_time": "2024-06-12T12:24:30.719Z"
   },
   {
    "duration": 35,
    "start_time": "2024-06-12T12:24:31.427Z"
   },
   {
    "duration": 99,
    "start_time": "2024-06-12T12:24:31.464Z"
   },
   {
    "duration": 123,
    "start_time": "2024-06-12T12:24:31.565Z"
   },
   {
    "duration": 27,
    "start_time": "2024-06-12T12:24:31.691Z"
   },
   {
    "duration": 9,
    "start_time": "2024-06-12T12:25:05.641Z"
   },
   {
    "duration": 663,
    "start_time": "2024-06-12T12:25:18.458Z"
   },
   {
    "duration": 33,
    "start_time": "2024-06-12T12:25:19.123Z"
   },
   {
    "duration": 18,
    "start_time": "2024-06-12T12:25:19.158Z"
   },
   {
    "duration": 20,
    "start_time": "2024-06-12T12:25:19.177Z"
   },
   {
    "duration": 9,
    "start_time": "2024-06-12T12:25:19.199Z"
   },
   {
    "duration": 36,
    "start_time": "2024-06-12T12:25:19.210Z"
   },
   {
    "duration": 8,
    "start_time": "2024-06-12T12:27:33.645Z"
   },
   {
    "duration": 10,
    "start_time": "2024-06-12T12:28:48.980Z"
   },
   {
    "duration": 75,
    "start_time": "2024-06-12T12:39:31.184Z"
   },
   {
    "duration": 69,
    "start_time": "2024-06-12T12:40:01.980Z"
   },
   {
    "duration": 110,
    "start_time": "2024-06-12T12:48:16.199Z"
   },
   {
    "duration": 87,
    "start_time": "2024-06-12T12:48:41.714Z"
   },
   {
    "duration": 8,
    "start_time": "2024-06-12T12:49:11.639Z"
   },
   {
    "duration": 8,
    "start_time": "2024-06-12T12:49:29.401Z"
   },
   {
    "duration": 10,
    "start_time": "2024-06-12T12:49:41.339Z"
   },
   {
    "duration": 9,
    "start_time": "2024-06-12T12:49:46.366Z"
   },
   {
    "duration": 10,
    "start_time": "2024-06-12T12:49:54.349Z"
   },
   {
    "duration": 12,
    "start_time": "2024-06-12T12:50:00.391Z"
   },
   {
    "duration": 9,
    "start_time": "2024-06-12T12:50:14.423Z"
   },
   {
    "duration": 53,
    "start_time": "2024-06-13T10:29:55.366Z"
   },
   {
    "duration": 7,
    "start_time": "2024-06-13T10:30:07.303Z"
   },
   {
    "duration": 831,
    "start_time": "2024-06-13T10:30:15.065Z"
   },
   {
    "duration": 83,
    "start_time": "2024-06-13T10:30:15.899Z"
   },
   {
    "duration": 12,
    "start_time": "2024-06-13T10:30:15.984Z"
   },
   {
    "duration": 10,
    "start_time": "2024-06-13T10:30:15.998Z"
   },
   {
    "duration": 11,
    "start_time": "2024-06-13T10:30:16.009Z"
   },
   {
    "duration": 10,
    "start_time": "2024-06-13T10:30:16.022Z"
   },
   {
    "duration": 123,
    "start_time": "2024-06-13T10:30:16.034Z"
   },
   {
    "duration": 8,
    "start_time": "2024-06-13T10:30:16.158Z"
   },
   {
    "duration": 81,
    "start_time": "2024-06-13T10:30:16.168Z"
   },
   {
    "duration": 9,
    "start_time": "2024-06-13T10:30:16.251Z"
   },
   {
    "duration": 8,
    "start_time": "2024-06-13T10:30:16.262Z"
   },
   {
    "duration": 70,
    "start_time": "2024-06-13T10:30:16.273Z"
   },
   {
    "duration": 6,
    "start_time": "2024-06-13T10:30:54.187Z"
   },
   {
    "duration": 6,
    "start_time": "2024-06-13T10:31:04.149Z"
   },
   {
    "duration": 641,
    "start_time": "2024-06-13T10:38:29.224Z"
   },
   {
    "duration": 38,
    "start_time": "2024-06-13T10:38:29.867Z"
   },
   {
    "duration": 16,
    "start_time": "2024-06-13T10:38:29.908Z"
   },
   {
    "duration": 9,
    "start_time": "2024-06-13T10:38:29.927Z"
   },
   {
    "duration": 22,
    "start_time": "2024-06-13T10:38:29.938Z"
   },
   {
    "duration": 10,
    "start_time": "2024-06-13T10:38:29.962Z"
   },
   {
    "duration": 55,
    "start_time": "2024-06-13T10:38:29.974Z"
   },
   {
    "duration": 10,
    "start_time": "2024-06-13T10:38:30.031Z"
   },
   {
    "duration": 40,
    "start_time": "2024-06-13T10:38:30.043Z"
   },
   {
    "duration": 66,
    "start_time": "2024-06-13T10:38:30.086Z"
   },
   {
    "duration": 39,
    "start_time": "2024-06-13T10:38:30.153Z"
   },
   {
    "duration": 999,
    "start_time": "2024-06-13T10:39:23.551Z"
   },
   {
    "duration": 660,
    "start_time": "2024-06-13T10:39:48.289Z"
   },
   {
    "duration": 36,
    "start_time": "2024-06-13T10:39:48.951Z"
   },
   {
    "duration": 13,
    "start_time": "2024-06-13T10:39:48.989Z"
   },
   {
    "duration": 11,
    "start_time": "2024-06-13T10:39:49.003Z"
   },
   {
    "duration": 12,
    "start_time": "2024-06-13T10:39:49.016Z"
   },
   {
    "duration": 10,
    "start_time": "2024-06-13T10:39:49.029Z"
   },
   {
    "duration": 46,
    "start_time": "2024-06-13T10:39:49.061Z"
   },
   {
    "duration": 9,
    "start_time": "2024-06-13T10:39:49.109Z"
   },
   {
    "duration": 8,
    "start_time": "2024-06-13T10:39:49.120Z"
   },
   {
    "duration": 25,
    "start_time": "2024-06-13T10:39:49.130Z"
   },
   {
    "duration": 8,
    "start_time": "2024-06-13T10:39:49.157Z"
   },
   {
    "duration": 804,
    "start_time": "2024-06-13T10:39:49.166Z"
   },
   {
    "duration": 211,
    "start_time": "2024-06-13T10:52:22.730Z"
   },
   {
    "duration": 185,
    "start_time": "2024-06-13T10:52:55.537Z"
   },
   {
    "duration": 729,
    "start_time": "2024-06-13T10:53:04.870Z"
   },
   {
    "duration": 231,
    "start_time": "2024-06-13T10:54:42.303Z"
   },
   {
    "duration": 171,
    "start_time": "2024-06-13T10:59:19.691Z"
   },
   {
    "duration": 277,
    "start_time": "2024-06-13T11:01:34.789Z"
   },
   {
    "duration": 702,
    "start_time": "2024-06-13T11:24:21.852Z"
   },
   {
    "duration": 38,
    "start_time": "2024-06-13T11:24:22.556Z"
   },
   {
    "duration": 14,
    "start_time": "2024-06-13T11:24:22.596Z"
   },
   {
    "duration": 10,
    "start_time": "2024-06-13T11:24:22.612Z"
   },
   {
    "duration": 11,
    "start_time": "2024-06-13T11:24:22.624Z"
   },
   {
    "duration": 10,
    "start_time": "2024-06-13T11:24:22.637Z"
   },
   {
    "duration": 57,
    "start_time": "2024-06-13T11:24:22.648Z"
   },
   {
    "duration": 8,
    "start_time": "2024-06-13T11:24:22.706Z"
   },
   {
    "duration": 8,
    "start_time": "2024-06-13T11:24:22.716Z"
   },
   {
    "duration": 23,
    "start_time": "2024-06-13T11:24:22.726Z"
   },
   {
    "duration": 9,
    "start_time": "2024-06-13T11:24:22.751Z"
   },
   {
    "duration": 813,
    "start_time": "2024-06-13T11:24:22.763Z"
   },
   {
    "duration": 183,
    "start_time": "2024-06-13T11:24:23.577Z"
   },
   {
    "duration": 282,
    "start_time": "2024-06-13T11:24:23.763Z"
   },
   {
    "duration": 262,
    "start_time": "2024-06-13T11:24:24.047Z"
   },
   {
    "duration": 306,
    "start_time": "2024-06-13T11:24:24.311Z"
   },
   {
    "duration": 75,
    "start_time": "2024-06-13T11:27:52.790Z"
   },
   {
    "duration": 317,
    "start_time": "2024-06-13T11:29:18.091Z"
   },
   {
    "duration": 316,
    "start_time": "2024-06-13T11:31:10.952Z"
   },
   {
    "duration": 702,
    "start_time": "2024-06-13T11:33:34.152Z"
   },
   {
    "duration": 36,
    "start_time": "2024-06-13T11:33:34.856Z"
   },
   {
    "duration": 13,
    "start_time": "2024-06-13T11:33:34.893Z"
   },
   {
    "duration": 9,
    "start_time": "2024-06-13T11:33:34.907Z"
   },
   {
    "duration": 30,
    "start_time": "2024-06-13T11:33:34.919Z"
   },
   {
    "duration": 22,
    "start_time": "2024-06-13T11:33:34.951Z"
   },
   {
    "duration": 56,
    "start_time": "2024-06-13T11:33:34.974Z"
   },
   {
    "duration": 8,
    "start_time": "2024-06-13T11:33:35.032Z"
   },
   {
    "duration": 25,
    "start_time": "2024-06-13T11:33:35.042Z"
   },
   {
    "duration": 41,
    "start_time": "2024-06-13T11:33:35.069Z"
   },
   {
    "duration": 29,
    "start_time": "2024-06-13T11:33:35.111Z"
   },
   {
    "duration": 412,
    "start_time": "2024-06-13T11:33:35.142Z"
   },
   {
    "duration": 0,
    "start_time": "2024-06-13T11:33:35.556Z"
   },
   {
    "duration": 0,
    "start_time": "2024-06-13T11:33:35.558Z"
   },
   {
    "duration": 0,
    "start_time": "2024-06-13T11:33:35.559Z"
   },
   {
    "duration": 0,
    "start_time": "2024-06-13T11:33:35.560Z"
   },
   {
    "duration": 0,
    "start_time": "2024-06-13T11:33:35.561Z"
   },
   {
    "duration": 74,
    "start_time": "2024-06-13T11:37:16.976Z"
   },
   {
    "duration": 71,
    "start_time": "2024-06-13T11:38:17.663Z"
   },
   {
    "duration": 84,
    "start_time": "2024-06-13T11:38:40.875Z"
   },
   {
    "duration": 1071,
    "start_time": "2024-06-13T11:39:58.657Z"
   },
   {
    "duration": 16,
    "start_time": "2024-06-13T11:40:17.414Z"
   },
   {
    "duration": 9,
    "start_time": "2024-06-13T11:40:53.535Z"
   },
   {
    "duration": 282,
    "start_time": "2024-06-13T11:41:05.246Z"
   },
   {
    "duration": 695,
    "start_time": "2024-06-13T11:41:24.286Z"
   },
   {
    "duration": 37,
    "start_time": "2024-06-13T11:41:24.983Z"
   },
   {
    "duration": 11,
    "start_time": "2024-06-13T11:41:25.021Z"
   },
   {
    "duration": 9,
    "start_time": "2024-06-13T11:41:25.034Z"
   },
   {
    "duration": 13,
    "start_time": "2024-06-13T11:41:25.044Z"
   },
   {
    "duration": 16,
    "start_time": "2024-06-13T11:41:25.059Z"
   },
   {
    "duration": 48,
    "start_time": "2024-06-13T11:41:25.077Z"
   },
   {
    "duration": 15,
    "start_time": "2024-06-13T11:41:25.127Z"
   },
   {
    "duration": 8,
    "start_time": "2024-06-13T11:41:25.143Z"
   },
   {
    "duration": 25,
    "start_time": "2024-06-13T11:41:25.155Z"
   },
   {
    "duration": 7,
    "start_time": "2024-06-13T11:41:25.182Z"
   },
   {
    "duration": 80,
    "start_time": "2024-06-13T11:41:25.191Z"
   },
   {
    "duration": 0,
    "start_time": "2024-06-13T11:41:25.274Z"
   },
   {
    "duration": 0,
    "start_time": "2024-06-13T11:41:25.275Z"
   },
   {
    "duration": 0,
    "start_time": "2024-06-13T11:41:25.276Z"
   },
   {
    "duration": 0,
    "start_time": "2024-06-13T11:41:25.277Z"
   },
   {
    "duration": 0,
    "start_time": "2024-06-13T11:41:25.278Z"
   },
   {
    "duration": 8,
    "start_time": "2024-06-13T11:41:49.028Z"
   },
   {
    "duration": 674,
    "start_time": "2024-06-13T11:41:55.986Z"
   },
   {
    "duration": 36,
    "start_time": "2024-06-13T11:41:56.663Z"
   },
   {
    "duration": 12,
    "start_time": "2024-06-13T11:41:56.701Z"
   },
   {
    "duration": 19,
    "start_time": "2024-06-13T11:41:56.715Z"
   },
   {
    "duration": 27,
    "start_time": "2024-06-13T11:41:56.736Z"
   },
   {
    "duration": 28,
    "start_time": "2024-06-13T11:41:56.765Z"
   },
   {
    "duration": 50,
    "start_time": "2024-06-13T11:41:56.795Z"
   },
   {
    "duration": 16,
    "start_time": "2024-06-13T11:41:56.846Z"
   },
   {
    "duration": 17,
    "start_time": "2024-06-13T11:41:56.864Z"
   },
   {
    "duration": 34,
    "start_time": "2024-06-13T11:41:56.883Z"
   },
   {
    "duration": 6,
    "start_time": "2024-06-13T11:41:56.919Z"
   },
   {
    "duration": 70,
    "start_time": "2024-06-13T11:41:56.927Z"
   },
   {
    "duration": 0,
    "start_time": "2024-06-13T11:41:57.000Z"
   },
   {
    "duration": 0,
    "start_time": "2024-06-13T11:41:57.002Z"
   },
   {
    "duration": 0,
    "start_time": "2024-06-13T11:41:57.005Z"
   },
   {
    "duration": 0,
    "start_time": "2024-06-13T11:41:57.007Z"
   },
   {
    "duration": 0,
    "start_time": "2024-06-13T11:41:57.008Z"
   },
   {
    "duration": 92,
    "start_time": "2024-06-13T11:42:25.228Z"
   },
   {
    "duration": 586,
    "start_time": "2024-06-13T11:44:01.825Z"
   },
   {
    "duration": 183,
    "start_time": "2024-06-13T11:45:48.794Z"
   },
   {
    "duration": 328,
    "start_time": "2024-06-13T11:46:02.846Z"
   },
   {
    "duration": 261,
    "start_time": "2024-06-13T11:46:13.746Z"
   },
   {
    "duration": 265,
    "start_time": "2024-06-13T11:46:28.617Z"
   },
   {
    "duration": 277,
    "start_time": "2024-06-13T11:47:15.548Z"
   },
   {
    "duration": 285,
    "start_time": "2024-06-13T11:47:31.057Z"
   },
   {
    "duration": 288,
    "start_time": "2024-06-13T11:47:52.314Z"
   },
   {
    "duration": 288,
    "start_time": "2024-06-13T11:48:09.128Z"
   },
   {
    "duration": 256,
    "start_time": "2024-06-13T11:54:28.388Z"
   },
   {
    "duration": 10,
    "start_time": "2024-06-13T11:58:48.287Z"
   },
   {
    "duration": 5,
    "start_time": "2024-06-13T11:59:33.412Z"
   },
   {
    "duration": 279,
    "start_time": "2024-06-13T12:00:05.275Z"
   },
   {
    "duration": 291,
    "start_time": "2024-06-13T12:01:13.550Z"
   },
   {
    "duration": 266,
    "start_time": "2024-06-13T12:01:29.088Z"
   },
   {
    "duration": 12,
    "start_time": "2024-06-13T12:01:53.112Z"
   },
   {
    "duration": 14,
    "start_time": "2024-06-13T12:02:47.089Z"
   },
   {
    "duration": 11,
    "start_time": "2024-06-13T12:06:08.171Z"
   },
   {
    "duration": 13,
    "start_time": "2024-06-13T12:06:20.012Z"
   },
   {
    "duration": 10,
    "start_time": "2024-06-13T12:08:03.311Z"
   },
   {
    "duration": 11,
    "start_time": "2024-06-13T12:09:27.033Z"
   },
   {
    "duration": 11,
    "start_time": "2024-06-13T12:09:41.570Z"
   },
   {
    "duration": 12,
    "start_time": "2024-06-13T12:09:58.379Z"
   },
   {
    "duration": 10,
    "start_time": "2024-06-13T12:14:55.756Z"
   },
   {
    "duration": 135,
    "start_time": "2024-06-13T12:15:37.817Z"
   },
   {
    "duration": 198,
    "start_time": "2024-06-13T12:15:45.477Z"
   },
   {
    "duration": 122,
    "start_time": "2024-06-13T12:20:56.663Z"
   },
   {
    "duration": 5,
    "start_time": "2024-06-13T12:22:32.897Z"
   },
   {
    "duration": 1016,
    "start_time": "2024-06-13T12:24:55.238Z"
   },
   {
    "duration": 138,
    "start_time": "2024-06-13T12:25:58.554Z"
   },
   {
    "duration": 133,
    "start_time": "2024-06-13T12:26:06.247Z"
   },
   {
    "duration": 1055,
    "start_time": "2024-06-13T12:27:31.584Z"
   },
   {
    "duration": 993,
    "start_time": "2024-06-13T12:28:26.994Z"
   },
   {
    "duration": 1075,
    "start_time": "2024-06-13T12:28:51.373Z"
   },
   {
    "duration": 115,
    "start_time": "2024-06-13T12:29:21.106Z"
   },
   {
    "duration": 123,
    "start_time": "2024-06-13T12:30:17.656Z"
   },
   {
    "duration": 12,
    "start_time": "2024-06-13T12:31:39.220Z"
   },
   {
    "duration": 10,
    "start_time": "2024-06-13T12:31:49.464Z"
   },
   {
    "duration": 116,
    "start_time": "2024-06-13T12:32:14.979Z"
   },
   {
    "duration": 676,
    "start_time": "2024-06-13T12:34:34.028Z"
   },
   {
    "duration": 37,
    "start_time": "2024-06-13T12:34:34.707Z"
   },
   {
    "duration": 12,
    "start_time": "2024-06-13T12:34:34.745Z"
   },
   {
    "duration": 8,
    "start_time": "2024-06-13T12:34:34.759Z"
   },
   {
    "duration": 11,
    "start_time": "2024-06-13T12:34:34.769Z"
   },
   {
    "duration": 11,
    "start_time": "2024-06-13T12:34:34.782Z"
   },
   {
    "duration": 46,
    "start_time": "2024-06-13T12:34:34.794Z"
   },
   {
    "duration": 15,
    "start_time": "2024-06-13T12:34:34.842Z"
   },
   {
    "duration": 32,
    "start_time": "2024-06-13T12:34:34.859Z"
   },
   {
    "duration": 25,
    "start_time": "2024-06-13T12:34:34.893Z"
   },
   {
    "duration": 8,
    "start_time": "2024-06-13T12:34:34.919Z"
   },
   {
    "duration": 16,
    "start_time": "2024-06-13T12:34:34.929Z"
   },
   {
    "duration": 565,
    "start_time": "2024-06-13T12:34:34.947Z"
   },
   {
    "duration": 190,
    "start_time": "2024-06-13T12:34:35.514Z"
   },
   {
    "duration": 274,
    "start_time": "2024-06-13T12:34:35.706Z"
   },
   {
    "duration": 272,
    "start_time": "2024-06-13T12:34:35.982Z"
   },
   {
    "duration": 297,
    "start_time": "2024-06-13T12:34:36.256Z"
   },
   {
    "duration": 133,
    "start_time": "2024-06-13T12:34:36.560Z"
   },
   {
    "duration": 4,
    "start_time": "2024-06-13T12:34:36.695Z"
   },
   {
    "duration": 143,
    "start_time": "2024-06-13T12:34:36.701Z"
   },
   {
    "duration": 5,
    "start_time": "2024-06-13T12:38:09.013Z"
   },
   {
    "duration": 177,
    "start_time": "2024-06-13T12:48:21.050Z"
   },
   {
    "duration": 484,
    "start_time": "2024-06-13T12:52:28.427Z"
   },
   {
    "duration": 1231,
    "start_time": "2024-06-13T12:54:36.646Z"
   },
   {
    "duration": 37,
    "start_time": "2024-06-13T12:54:37.879Z"
   },
   {
    "duration": 14,
    "start_time": "2024-06-13T12:54:37.918Z"
   },
   {
    "duration": 65,
    "start_time": "2024-06-13T12:54:37.934Z"
   },
   {
    "duration": 41,
    "start_time": "2024-06-13T12:54:38.000Z"
   },
   {
    "duration": 20,
    "start_time": "2024-06-13T12:54:38.042Z"
   },
   {
    "duration": 77,
    "start_time": "2024-06-13T12:54:38.064Z"
   },
   {
    "duration": 15,
    "start_time": "2024-06-13T12:54:38.142Z"
   },
   {
    "duration": 23,
    "start_time": "2024-06-13T12:54:38.159Z"
   },
   {
    "duration": 36,
    "start_time": "2024-06-13T12:54:38.185Z"
   },
   {
    "duration": 6,
    "start_time": "2024-06-13T12:54:38.223Z"
   },
   {
    "duration": 31,
    "start_time": "2024-06-13T12:54:38.231Z"
   },
   {
    "duration": 570,
    "start_time": "2024-06-13T12:54:38.264Z"
   },
   {
    "duration": 198,
    "start_time": "2024-06-13T12:54:38.836Z"
   },
   {
    "duration": 298,
    "start_time": "2024-06-13T12:54:39.035Z"
   },
   {
    "duration": 208,
    "start_time": "2024-06-13T12:54:39.334Z"
   },
   {
    "duration": 317,
    "start_time": "2024-06-13T12:54:39.543Z"
   },
   {
    "duration": 138,
    "start_time": "2024-06-13T12:54:39.863Z"
   },
   {
    "duration": 5,
    "start_time": "2024-06-13T12:54:40.003Z"
   },
   {
    "duration": 162,
    "start_time": "2024-06-13T12:54:40.009Z"
   },
   {
    "duration": 5,
    "start_time": "2024-06-13T12:54:40.173Z"
   },
   {
    "duration": 584,
    "start_time": "2024-06-13T12:54:40.179Z"
   },
   {
    "duration": 11,
    "start_time": "2024-06-13T13:02:25.263Z"
   },
   {
    "duration": 232,
    "start_time": "2024-06-13T13:12:38.870Z"
   },
   {
    "duration": 1170,
    "start_time": "2024-06-13T13:12:51.604Z"
   },
   {
    "duration": 37,
    "start_time": "2024-06-13T13:12:52.777Z"
   },
   {
    "duration": 13,
    "start_time": "2024-06-13T13:12:52.815Z"
   },
   {
    "duration": 9,
    "start_time": "2024-06-13T13:12:52.830Z"
   },
   {
    "duration": 13,
    "start_time": "2024-06-13T13:12:52.841Z"
   },
   {
    "duration": 18,
    "start_time": "2024-06-13T13:12:52.857Z"
   },
   {
    "duration": 56,
    "start_time": "2024-06-13T13:12:52.877Z"
   },
   {
    "duration": 18,
    "start_time": "2024-06-13T13:12:52.935Z"
   },
   {
    "duration": 49,
    "start_time": "2024-06-13T13:12:52.954Z"
   },
   {
    "duration": 51,
    "start_time": "2024-06-13T13:12:53.006Z"
   },
   {
    "duration": 8,
    "start_time": "2024-06-13T13:12:53.059Z"
   },
   {
    "duration": 13,
    "start_time": "2024-06-13T13:12:53.068Z"
   },
   {
    "duration": 568,
    "start_time": "2024-06-13T13:12:53.083Z"
   },
   {
    "duration": 192,
    "start_time": "2024-06-13T13:12:53.653Z"
   },
   {
    "duration": 329,
    "start_time": "2024-06-13T13:12:53.847Z"
   },
   {
    "duration": 216,
    "start_time": "2024-06-13T13:12:54.178Z"
   },
   {
    "duration": 275,
    "start_time": "2024-06-13T13:12:54.396Z"
   },
   {
    "duration": 149,
    "start_time": "2024-06-13T13:12:54.673Z"
   },
   {
    "duration": 5,
    "start_time": "2024-06-13T13:12:54.823Z"
   },
   {
    "duration": 142,
    "start_time": "2024-06-13T13:12:54.829Z"
   },
   {
    "duration": 4,
    "start_time": "2024-06-13T13:12:54.973Z"
   },
   {
    "duration": 532,
    "start_time": "2024-06-13T13:12:54.978Z"
   },
   {
    "duration": 236,
    "start_time": "2024-06-13T13:12:55.512Z"
   },
   {
    "duration": 1177,
    "start_time": "2024-06-13T13:16:31.947Z"
   },
   {
    "duration": 1192,
    "start_time": "2024-06-13T13:16:57.015Z"
   },
   {
    "duration": 8,
    "start_time": "2024-06-13T13:17:09.111Z"
   },
   {
    "duration": 1133,
    "start_time": "2024-06-14T07:15:47.956Z"
   },
   {
    "duration": 87,
    "start_time": "2024-06-14T07:15:49.092Z"
   },
   {
    "duration": 10,
    "start_time": "2024-06-14T07:15:49.180Z"
   },
   {
    "duration": 14,
    "start_time": "2024-06-14T07:15:49.192Z"
   },
   {
    "duration": 14,
    "start_time": "2024-06-14T07:15:49.207Z"
   },
   {
    "duration": 7,
    "start_time": "2024-06-14T07:15:49.223Z"
   },
   {
    "duration": 87,
    "start_time": "2024-06-14T07:15:49.231Z"
   },
   {
    "duration": 13,
    "start_time": "2024-06-14T07:15:49.319Z"
   },
   {
    "duration": 10,
    "start_time": "2024-06-14T07:15:49.333Z"
   },
   {
    "duration": 62,
    "start_time": "2024-06-14T07:15:49.345Z"
   },
   {
    "duration": 5,
    "start_time": "2024-06-14T07:15:49.409Z"
   },
   {
    "duration": 9,
    "start_time": "2024-06-14T07:15:49.415Z"
   },
   {
    "duration": 436,
    "start_time": "2024-06-14T07:15:49.425Z"
   },
   {
    "duration": 140,
    "start_time": "2024-06-14T07:15:49.862Z"
   },
   {
    "duration": 304,
    "start_time": "2024-06-14T07:15:50.003Z"
   },
   {
    "duration": 183,
    "start_time": "2024-06-14T07:15:50.308Z"
   },
   {
    "duration": 289,
    "start_time": "2024-06-14T07:15:50.493Z"
   },
   {
    "duration": 106,
    "start_time": "2024-06-14T07:15:50.783Z"
   },
   {
    "duration": 4,
    "start_time": "2024-06-14T07:15:50.890Z"
   },
   {
    "duration": 126,
    "start_time": "2024-06-14T07:15:50.895Z"
   },
   {
    "duration": 3,
    "start_time": "2024-06-14T07:15:51.023Z"
   },
   {
    "duration": 464,
    "start_time": "2024-06-14T07:15:51.028Z"
   },
   {
    "duration": 189,
    "start_time": "2024-06-14T07:15:51.494Z"
   },
   {
    "duration": 8,
    "start_time": "2024-06-14T07:15:51.685Z"
   },
   {
    "duration": 8,
    "start_time": "2024-06-14T07:18:19.380Z"
   },
   {
    "duration": 23,
    "start_time": "2024-06-14T07:24:04.628Z"
   },
   {
    "duration": 8,
    "start_time": "2024-06-14T07:32:15.657Z"
   },
   {
    "duration": 16,
    "start_time": "2024-06-14T07:37:11.957Z"
   },
   {
    "duration": 4,
    "start_time": "2024-06-14T08:09:00.499Z"
   },
   {
    "duration": 90,
    "start_time": "2024-06-14T08:14:13.868Z"
   },
   {
    "duration": 118,
    "start_time": "2024-06-14T08:14:50.430Z"
   },
   {
    "duration": 150,
    "start_time": "2024-06-14T08:16:03.607Z"
   },
   {
    "duration": 99,
    "start_time": "2024-06-14T08:16:29.528Z"
   },
   {
    "duration": 96,
    "start_time": "2024-06-14T08:16:44.597Z"
   },
   {
    "duration": 94,
    "start_time": "2024-06-14T08:17:24.159Z"
   },
   {
    "duration": 114,
    "start_time": "2024-06-14T08:18:16.070Z"
   },
   {
    "duration": 4,
    "start_time": "2024-06-14T08:19:40.456Z"
   },
   {
    "duration": 4,
    "start_time": "2024-06-14T08:21:20.618Z"
   },
   {
    "duration": 4,
    "start_time": "2024-06-14T08:28:51.953Z"
   },
   {
    "duration": 8,
    "start_time": "2024-06-14T08:36:22.838Z"
   },
   {
    "duration": 8,
    "start_time": "2024-06-14T08:36:31.448Z"
   },
   {
    "duration": 8,
    "start_time": "2024-06-14T08:36:50.781Z"
   },
   {
    "duration": 7,
    "start_time": "2024-06-14T08:36:59.166Z"
   },
   {
    "duration": 10,
    "start_time": "2024-06-14T08:37:12.120Z"
   },
   {
    "duration": 7,
    "start_time": "2024-06-14T08:37:21.474Z"
   },
   {
    "duration": 7,
    "start_time": "2024-06-14T08:37:38.408Z"
   },
   {
    "duration": 23,
    "start_time": "2024-06-14T08:37:44.992Z"
   },
   {
    "duration": 13,
    "start_time": "2024-06-14T08:39:29.532Z"
   },
   {
    "duration": 4,
    "start_time": "2024-06-14T08:41:41.875Z"
   },
   {
    "duration": 434,
    "start_time": "2024-06-14T08:41:59.601Z"
   },
   {
    "duration": 185,
    "start_time": "2024-06-14T08:42:13.005Z"
   },
   {
    "duration": 8,
    "start_time": "2024-06-14T08:42:17.622Z"
   },
   {
    "duration": 8,
    "start_time": "2024-06-14T08:42:25.256Z"
   },
   {
    "duration": 8,
    "start_time": "2024-06-14T08:42:34.013Z"
   },
   {
    "duration": 25,
    "start_time": "2024-06-14T08:42:37.527Z"
   },
   {
    "duration": 11,
    "start_time": "2024-06-14T08:43:00.159Z"
   },
   {
    "duration": 1034,
    "start_time": "2024-06-14T08:49:53.599Z"
   },
   {
    "duration": 32,
    "start_time": "2024-06-14T08:49:54.635Z"
   },
   {
    "duration": 10,
    "start_time": "2024-06-14T08:49:54.668Z"
   },
   {
    "duration": 33,
    "start_time": "2024-06-14T08:49:54.680Z"
   },
   {
    "duration": 33,
    "start_time": "2024-06-14T08:49:54.715Z"
   },
   {
    "duration": 42,
    "start_time": "2024-06-14T08:49:54.749Z"
   },
   {
    "duration": 77,
    "start_time": "2024-06-14T08:49:54.792Z"
   },
   {
    "duration": 35,
    "start_time": "2024-06-14T08:49:54.870Z"
   },
   {
    "duration": 18,
    "start_time": "2024-06-14T08:49:54.907Z"
   },
   {
    "duration": 41,
    "start_time": "2024-06-14T08:49:54.927Z"
   },
   {
    "duration": 21,
    "start_time": "2024-06-14T08:49:54.970Z"
   },
   {
    "duration": 27,
    "start_time": "2024-06-14T08:49:54.992Z"
   },
   {
    "duration": 517,
    "start_time": "2024-06-14T08:49:55.020Z"
   },
   {
    "duration": 156,
    "start_time": "2024-06-14T08:49:55.539Z"
   },
   {
    "duration": 274,
    "start_time": "2024-06-14T08:49:55.696Z"
   },
   {
    "duration": 168,
    "start_time": "2024-06-14T08:49:55.971Z"
   },
   {
    "duration": 276,
    "start_time": "2024-06-14T08:49:56.141Z"
   },
   {
    "duration": 120,
    "start_time": "2024-06-14T08:49:56.420Z"
   },
   {
    "duration": 3,
    "start_time": "2024-06-14T08:49:56.542Z"
   },
   {
    "duration": 117,
    "start_time": "2024-06-14T08:49:56.546Z"
   },
   {
    "duration": 105,
    "start_time": "2024-06-14T08:49:56.665Z"
   },
   {
    "duration": 0,
    "start_time": "2024-06-14T08:49:56.771Z"
   },
   {
    "duration": 0,
    "start_time": "2024-06-14T08:49:56.773Z"
   },
   {
    "duration": 0,
    "start_time": "2024-06-14T08:49:56.773Z"
   },
   {
    "duration": 0,
    "start_time": "2024-06-14T08:49:56.774Z"
   },
   {
    "duration": 0,
    "start_time": "2024-06-14T08:49:56.775Z"
   },
   {
    "duration": 0,
    "start_time": "2024-06-14T08:49:56.776Z"
   },
   {
    "duration": 9,
    "start_time": "2024-06-14T09:05:50.356Z"
   },
   {
    "duration": 103,
    "start_time": "2024-06-14T09:05:59.556Z"
   },
   {
    "duration": 4,
    "start_time": "2024-06-14T09:15:41.638Z"
   },
   {
    "duration": 999,
    "start_time": "2024-06-14T09:31:02.067Z"
   },
   {
    "duration": 32,
    "start_time": "2024-06-14T09:31:03.068Z"
   },
   {
    "duration": 11,
    "start_time": "2024-06-14T09:31:03.101Z"
   },
   {
    "duration": 28,
    "start_time": "2024-06-14T09:31:03.114Z"
   },
   {
    "duration": 17,
    "start_time": "2024-06-14T09:31:03.144Z"
   },
   {
    "duration": 11,
    "start_time": "2024-06-14T09:31:03.163Z"
   },
   {
    "duration": 47,
    "start_time": "2024-06-14T09:31:03.175Z"
   },
   {
    "duration": 13,
    "start_time": "2024-06-14T09:31:03.224Z"
   },
   {
    "duration": 52,
    "start_time": "2024-06-14T09:31:03.238Z"
   },
   {
    "duration": 41,
    "start_time": "2024-06-14T09:31:03.292Z"
   },
   {
    "duration": 10,
    "start_time": "2024-06-14T09:31:03.334Z"
   },
   {
    "duration": 21,
    "start_time": "2024-06-14T09:31:03.345Z"
   },
   {
    "duration": 492,
    "start_time": "2024-06-14T09:31:03.367Z"
   },
   {
    "duration": 168,
    "start_time": "2024-06-14T09:31:03.860Z"
   },
   {
    "duration": 247,
    "start_time": "2024-06-14T09:31:04.030Z"
   },
   {
    "duration": 174,
    "start_time": "2024-06-14T09:31:04.279Z"
   },
   {
    "duration": 240,
    "start_time": "2024-06-14T09:31:04.455Z"
   },
   {
    "duration": 104,
    "start_time": "2024-06-14T09:31:04.697Z"
   },
   {
    "duration": 3,
    "start_time": "2024-06-14T09:31:04.802Z"
   },
   {
    "duration": 131,
    "start_time": "2024-06-14T09:31:04.819Z"
   },
   {
    "duration": 128,
    "start_time": "2024-06-14T09:31:04.951Z"
   },
   {
    "duration": 4,
    "start_time": "2024-06-14T09:31:05.080Z"
   },
   {
    "duration": 498,
    "start_time": "2024-06-14T09:31:05.085Z"
   },
   {
    "duration": 247,
    "start_time": "2024-06-14T09:31:05.584Z"
   },
   {
    "duration": 8,
    "start_time": "2024-06-14T09:31:05.832Z"
   },
   {
    "duration": 48,
    "start_time": "2024-06-14T09:31:05.841Z"
   },
   {
    "duration": 55,
    "start_time": "2024-06-14T09:31:05.890Z"
   },
   {
    "duration": 1051,
    "start_time": "2024-06-14T09:36:07.894Z"
   },
   {
    "duration": 33,
    "start_time": "2024-06-14T09:36:08.947Z"
   },
   {
    "duration": 10,
    "start_time": "2024-06-14T09:36:08.981Z"
   },
   {
    "duration": 27,
    "start_time": "2024-06-14T09:36:08.993Z"
   },
   {
    "duration": 13,
    "start_time": "2024-06-14T09:36:09.022Z"
   },
   {
    "duration": 9,
    "start_time": "2024-06-14T09:36:09.036Z"
   },
   {
    "duration": 49,
    "start_time": "2024-06-14T09:36:09.047Z"
   },
   {
    "duration": 13,
    "start_time": "2024-06-14T09:36:09.097Z"
   },
   {
    "duration": 30,
    "start_time": "2024-06-14T09:36:09.111Z"
   },
   {
    "duration": 31,
    "start_time": "2024-06-14T09:36:09.143Z"
   },
   {
    "duration": 19,
    "start_time": "2024-06-14T09:36:09.176Z"
   },
   {
    "duration": 43,
    "start_time": "2024-06-14T09:36:09.197Z"
   },
   {
    "duration": 472,
    "start_time": "2024-06-14T09:36:09.242Z"
   },
   {
    "duration": 155,
    "start_time": "2024-06-14T09:36:09.715Z"
   },
   {
    "duration": 223,
    "start_time": "2024-06-14T09:36:09.871Z"
   },
   {
    "duration": 176,
    "start_time": "2024-06-14T09:36:10.095Z"
   },
   {
    "duration": 255,
    "start_time": "2024-06-14T09:36:10.272Z"
   },
   {
    "duration": 105,
    "start_time": "2024-06-14T09:36:10.528Z"
   },
   {
    "duration": 5,
    "start_time": "2024-06-14T09:36:10.634Z"
   },
   {
    "duration": 125,
    "start_time": "2024-06-14T09:36:10.640Z"
   },
   {
    "duration": 104,
    "start_time": "2024-06-14T09:36:10.767Z"
   },
   {
    "duration": 4,
    "start_time": "2024-06-14T09:36:10.873Z"
   },
   {
    "duration": 449,
    "start_time": "2024-06-14T09:36:10.878Z"
   },
   {
    "duration": 240,
    "start_time": "2024-06-14T09:36:11.328Z"
   },
   {
    "duration": 7,
    "start_time": "2024-06-14T09:36:11.570Z"
   },
   {
    "duration": 37,
    "start_time": "2024-06-14T09:36:11.579Z"
   },
   {
    "duration": 27,
    "start_time": "2024-06-14T09:36:11.618Z"
   },
   {
    "duration": 1205,
    "start_time": "2024-06-14T13:28:34.211Z"
   },
   {
    "duration": 85,
    "start_time": "2024-06-14T13:28:35.418Z"
   },
   {
    "duration": 14,
    "start_time": "2024-06-14T13:28:35.505Z"
   },
   {
    "duration": 10,
    "start_time": "2024-06-14T13:28:35.521Z"
   },
   {
    "duration": 16,
    "start_time": "2024-06-14T13:28:35.533Z"
   },
   {
    "duration": 16,
    "start_time": "2024-06-14T13:28:35.550Z"
   },
   {
    "duration": 103,
    "start_time": "2024-06-14T13:28:35.567Z"
   },
   {
    "duration": 15,
    "start_time": "2024-06-14T13:28:35.672Z"
   },
   {
    "duration": 7,
    "start_time": "2024-06-14T13:28:35.689Z"
   },
   {
    "duration": 65,
    "start_time": "2024-06-14T13:28:35.698Z"
   },
   {
    "duration": 7,
    "start_time": "2024-06-14T13:28:35.765Z"
   },
   {
    "duration": 7,
    "start_time": "2024-06-14T13:28:35.773Z"
   },
   {
    "duration": 602,
    "start_time": "2024-06-14T13:28:35.781Z"
   },
   {
    "duration": 211,
    "start_time": "2024-06-14T13:28:36.385Z"
   },
   {
    "duration": 319,
    "start_time": "2024-06-14T13:28:36.598Z"
   },
   {
    "duration": 209,
    "start_time": "2024-06-14T13:28:36.919Z"
   },
   {
    "duration": 276,
    "start_time": "2024-06-14T13:28:37.129Z"
   },
   {
    "duration": 130,
    "start_time": "2024-06-14T13:28:37.407Z"
   },
   {
    "duration": 4,
    "start_time": "2024-06-14T13:28:37.539Z"
   },
   {
    "duration": 144,
    "start_time": "2024-06-14T13:28:37.544Z"
   },
   {
    "duration": 138,
    "start_time": "2024-06-14T13:28:37.689Z"
   },
   {
    "duration": 4,
    "start_time": "2024-06-14T13:28:37.829Z"
   },
   {
    "duration": 540,
    "start_time": "2024-06-14T13:28:37.834Z"
   },
   {
    "duration": 333,
    "start_time": "2024-06-14T13:28:38.376Z"
   },
   {
    "duration": 11,
    "start_time": "2024-06-14T13:28:38.711Z"
   },
   {
    "duration": 31,
    "start_time": "2024-06-14T13:28:38.723Z"
   },
   {
    "duration": 13,
    "start_time": "2024-06-14T13:28:38.756Z"
   },
   {
    "duration": 1146,
    "start_time": "2024-06-14T13:50:59.156Z"
   },
   {
    "duration": 33,
    "start_time": "2024-06-14T13:51:00.304Z"
   },
   {
    "duration": 24,
    "start_time": "2024-06-14T13:51:00.339Z"
   },
   {
    "duration": 33,
    "start_time": "2024-06-14T13:51:00.364Z"
   },
   {
    "duration": 45,
    "start_time": "2024-06-14T13:51:00.400Z"
   },
   {
    "duration": 44,
    "start_time": "2024-06-14T13:51:00.447Z"
   },
   {
    "duration": 75,
    "start_time": "2024-06-14T13:51:00.493Z"
   },
   {
    "duration": 17,
    "start_time": "2024-06-14T13:51:00.570Z"
   },
   {
    "duration": 30,
    "start_time": "2024-06-14T13:51:00.589Z"
   },
   {
    "duration": 49,
    "start_time": "2024-06-14T13:51:00.621Z"
   },
   {
    "duration": 12,
    "start_time": "2024-06-14T13:51:00.672Z"
   },
   {
    "duration": 41,
    "start_time": "2024-06-14T13:51:00.686Z"
   },
   {
    "duration": 596,
    "start_time": "2024-06-14T13:51:00.729Z"
   },
   {
    "duration": 193,
    "start_time": "2024-06-14T13:51:01.328Z"
   },
   {
    "duration": 268,
    "start_time": "2024-06-14T13:51:01.524Z"
   },
   {
    "duration": 216,
    "start_time": "2024-06-14T13:51:01.799Z"
   },
   {
    "duration": 303,
    "start_time": "2024-06-14T13:51:02.017Z"
   },
   {
    "duration": 125,
    "start_time": "2024-06-14T13:51:02.322Z"
   },
   {
    "duration": 13,
    "start_time": "2024-06-14T13:51:02.449Z"
   },
   {
    "duration": 157,
    "start_time": "2024-06-14T13:51:02.467Z"
   },
   {
    "duration": 137,
    "start_time": "2024-06-14T13:51:02.626Z"
   },
   {
    "duration": 4,
    "start_time": "2024-06-14T13:51:02.765Z"
   },
   {
    "duration": 551,
    "start_time": "2024-06-14T13:51:02.771Z"
   },
   {
    "duration": 324,
    "start_time": "2024-06-14T13:51:03.324Z"
   },
   {
    "duration": 9,
    "start_time": "2024-06-14T13:51:03.650Z"
   },
   {
    "duration": 45,
    "start_time": "2024-06-14T13:51:03.661Z"
   },
   {
    "duration": 15,
    "start_time": "2024-06-14T13:51:03.707Z"
   },
   {
    "duration": 40,
    "start_time": "2024-06-15T05:55:53.817Z"
   },
   {
    "duration": 5,
    "start_time": "2024-06-15T05:56:05.889Z"
   },
   {
    "duration": 5,
    "start_time": "2024-06-15T05:56:43.744Z"
   },
   {
    "duration": 1108,
    "start_time": "2024-06-15T05:56:58.152Z"
   },
   {
    "duration": 79,
    "start_time": "2024-06-15T05:56:59.261Z"
   },
   {
    "duration": 9,
    "start_time": "2024-06-15T05:56:59.341Z"
   },
   {
    "duration": 7,
    "start_time": "2024-06-15T05:56:59.352Z"
   },
   {
    "duration": 8,
    "start_time": "2024-06-15T05:56:59.361Z"
   },
   {
    "duration": 7,
    "start_time": "2024-06-15T05:56:59.371Z"
   },
   {
    "duration": 107,
    "start_time": "2024-06-15T05:56:59.380Z"
   },
   {
    "duration": 12,
    "start_time": "2024-06-15T05:56:59.488Z"
   },
   {
    "duration": 15,
    "start_time": "2024-06-15T05:56:59.502Z"
   },
   {
    "duration": 80,
    "start_time": "2024-06-15T05:56:59.519Z"
   },
   {
    "duration": 5,
    "start_time": "2024-06-15T05:56:59.601Z"
   },
   {
    "duration": 10,
    "start_time": "2024-06-15T05:56:59.607Z"
   },
   {
    "duration": 439,
    "start_time": "2024-06-15T05:56:59.618Z"
   },
   {
    "duration": 161,
    "start_time": "2024-06-15T05:57:00.059Z"
   },
   {
    "duration": 286,
    "start_time": "2024-06-15T05:57:00.222Z"
   },
   {
    "duration": 167,
    "start_time": "2024-06-15T05:57:00.510Z"
   },
   {
    "duration": 285,
    "start_time": "2024-06-15T05:57:00.678Z"
   },
   {
    "duration": 99,
    "start_time": "2024-06-15T05:57:00.964Z"
   },
   {
    "duration": 4,
    "start_time": "2024-06-15T05:57:01.064Z"
   },
   {
    "duration": 130,
    "start_time": "2024-06-15T05:57:01.069Z"
   },
   {
    "duration": 109,
    "start_time": "2024-06-15T05:57:01.201Z"
   },
   {
    "duration": 4,
    "start_time": "2024-06-15T05:57:01.312Z"
   },
   {
    "duration": 441,
    "start_time": "2024-06-15T05:57:01.318Z"
   },
   {
    "duration": 241,
    "start_time": "2024-06-15T05:57:01.761Z"
   },
   {
    "duration": 9,
    "start_time": "2024-06-15T05:57:02.003Z"
   },
   {
    "duration": 45,
    "start_time": "2024-06-15T05:57:02.013Z"
   },
   {
    "duration": 45,
    "start_time": "2024-06-15T05:57:02.060Z"
   },
   {
    "duration": 1096,
    "start_time": "2024-06-15T05:59:51.319Z"
   },
   {
    "duration": 40,
    "start_time": "2024-06-15T06:00:34.781Z"
   },
   {
    "duration": 929,
    "start_time": "2024-06-15T06:00:34.964Z"
   },
   {
    "duration": 33,
    "start_time": "2024-06-15T06:00:35.894Z"
   },
   {
    "duration": 9,
    "start_time": "2024-06-15T06:00:35.928Z"
   },
   {
    "duration": 18,
    "start_time": "2024-06-15T06:00:35.939Z"
   },
   {
    "duration": 38,
    "start_time": "2024-06-15T06:00:35.958Z"
   },
   {
    "duration": 44,
    "start_time": "2024-06-15T06:00:35.997Z"
   },
   {
    "duration": 47,
    "start_time": "2024-06-15T06:00:36.042Z"
   },
   {
    "duration": 13,
    "start_time": "2024-06-15T06:00:36.090Z"
   },
   {
    "duration": 7,
    "start_time": "2024-06-15T06:00:36.104Z"
   },
   {
    "duration": 64,
    "start_time": "2024-06-15T06:00:36.113Z"
   },
   {
    "duration": 69,
    "start_time": "2024-06-15T06:00:36.179Z"
   },
   {
    "duration": 21,
    "start_time": "2024-06-15T06:00:36.249Z"
   },
   {
    "duration": 431,
    "start_time": "2024-06-15T06:00:36.272Z"
   },
   {
    "duration": 142,
    "start_time": "2024-06-15T06:00:36.704Z"
   },
   {
    "duration": 215,
    "start_time": "2024-06-15T06:00:36.847Z"
   },
   {
    "duration": 165,
    "start_time": "2024-06-15T06:00:37.063Z"
   },
   {
    "duration": 239,
    "start_time": "2024-06-15T06:00:37.229Z"
   },
   {
    "duration": 99,
    "start_time": "2024-06-15T06:00:37.470Z"
   },
   {
    "duration": 4,
    "start_time": "2024-06-15T06:00:37.570Z"
   },
   {
    "duration": 110,
    "start_time": "2024-06-15T06:00:37.576Z"
   },
   {
    "duration": 96,
    "start_time": "2024-06-15T06:00:37.687Z"
   },
   {
    "duration": 4,
    "start_time": "2024-06-15T06:00:37.784Z"
   },
   {
    "duration": 428,
    "start_time": "2024-06-15T06:00:37.789Z"
   },
   {
    "duration": 222,
    "start_time": "2024-06-15T06:00:38.218Z"
   },
   {
    "duration": 7,
    "start_time": "2024-06-15T06:00:38.441Z"
   },
   {
    "duration": 35,
    "start_time": "2024-06-15T06:00:38.449Z"
   },
   {
    "duration": 17,
    "start_time": "2024-06-15T06:00:38.485Z"
   },
   {
    "duration": 1040,
    "start_time": "2024-06-15T06:02:13.269Z"
   },
   {
    "duration": 965,
    "start_time": "2024-06-15T06:02:27.557Z"
   },
   {
    "duration": 33,
    "start_time": "2024-06-15T06:02:28.524Z"
   },
   {
    "duration": 9,
    "start_time": "2024-06-15T06:02:28.558Z"
   },
   {
    "duration": 24,
    "start_time": "2024-06-15T06:02:28.568Z"
   },
   {
    "duration": 12,
    "start_time": "2024-06-15T06:02:28.593Z"
   },
   {
    "duration": 26,
    "start_time": "2024-06-15T06:02:28.607Z"
   },
   {
    "duration": 64,
    "start_time": "2024-06-15T06:02:28.634Z"
   },
   {
    "duration": 12,
    "start_time": "2024-06-15T06:02:28.699Z"
   },
   {
    "duration": 24,
    "start_time": "2024-06-15T06:02:28.712Z"
   },
   {
    "duration": 25,
    "start_time": "2024-06-15T06:02:28.739Z"
   },
   {
    "duration": 4,
    "start_time": "2024-06-15T06:02:28.766Z"
   },
   {
    "duration": 24,
    "start_time": "2024-06-15T06:02:28.771Z"
   },
   {
    "duration": 454,
    "start_time": "2024-06-15T06:02:28.796Z"
   },
   {
    "duration": 141,
    "start_time": "2024-06-15T06:02:29.252Z"
   },
   {
    "duration": 264,
    "start_time": "2024-06-15T06:02:29.395Z"
   },
   {
    "duration": 160,
    "start_time": "2024-06-15T06:02:29.660Z"
   },
   {
    "duration": 247,
    "start_time": "2024-06-15T06:02:29.821Z"
   },
   {
    "duration": 96,
    "start_time": "2024-06-15T06:02:30.069Z"
   },
   {
    "duration": 4,
    "start_time": "2024-06-15T06:02:30.166Z"
   },
   {
    "duration": 142,
    "start_time": "2024-06-15T06:02:30.171Z"
   },
   {
    "duration": 117,
    "start_time": "2024-06-15T06:02:30.314Z"
   },
   {
    "duration": 4,
    "start_time": "2024-06-15T06:02:30.432Z"
   },
   {
    "duration": 441,
    "start_time": "2024-06-15T06:02:30.438Z"
   },
   {
    "duration": 245,
    "start_time": "2024-06-15T06:02:30.880Z"
   },
   {
    "duration": 83,
    "start_time": "2024-06-15T06:02:31.126Z"
   },
   {
    "duration": 68,
    "start_time": "2024-06-15T06:02:31.211Z"
   },
   {
    "duration": 13,
    "start_time": "2024-06-15T06:02:31.281Z"
   },
   {
    "duration": 962,
    "start_time": "2024-06-15T06:03:23.802Z"
   },
   {
    "duration": 33,
    "start_time": "2024-06-15T06:03:24.765Z"
   },
   {
    "duration": 9,
    "start_time": "2024-06-15T06:03:24.799Z"
   },
   {
    "duration": 15,
    "start_time": "2024-06-15T06:03:24.810Z"
   },
   {
    "duration": 17,
    "start_time": "2024-06-15T06:03:24.826Z"
   },
   {
    "duration": 9,
    "start_time": "2024-06-15T06:03:24.844Z"
   },
   {
    "duration": 57,
    "start_time": "2024-06-15T06:03:24.854Z"
   },
   {
    "duration": 13,
    "start_time": "2024-06-15T06:03:24.912Z"
   },
   {
    "duration": 18,
    "start_time": "2024-06-15T06:03:24.926Z"
   },
   {
    "duration": 24,
    "start_time": "2024-06-15T06:03:24.947Z"
   },
   {
    "duration": 5,
    "start_time": "2024-06-15T06:03:24.973Z"
   },
   {
    "duration": 24,
    "start_time": "2024-06-15T06:03:24.979Z"
   },
   {
    "duration": 460,
    "start_time": "2024-06-15T06:03:25.004Z"
   },
   {
    "duration": 145,
    "start_time": "2024-06-15T06:03:25.466Z"
   },
   {
    "duration": 242,
    "start_time": "2024-06-15T06:03:25.612Z"
   },
   {
    "duration": 159,
    "start_time": "2024-06-15T06:03:25.856Z"
   },
   {
    "duration": 243,
    "start_time": "2024-06-15T06:03:26.016Z"
   },
   {
    "duration": 98,
    "start_time": "2024-06-15T06:03:26.260Z"
   },
   {
    "duration": 3,
    "start_time": "2024-06-15T06:03:26.359Z"
   },
   {
    "duration": 107,
    "start_time": "2024-06-15T06:03:26.363Z"
   },
   {
    "duration": 96,
    "start_time": "2024-06-15T06:03:26.471Z"
   },
   {
    "duration": 3,
    "start_time": "2024-06-15T06:03:26.569Z"
   },
   {
    "duration": 436,
    "start_time": "2024-06-15T06:03:26.573Z"
   },
   {
    "duration": 218,
    "start_time": "2024-06-15T06:03:27.011Z"
   },
   {
    "duration": 7,
    "start_time": "2024-06-15T06:03:27.230Z"
   },
   {
    "duration": 43,
    "start_time": "2024-06-15T06:03:27.238Z"
   },
   {
    "duration": 10,
    "start_time": "2024-06-15T06:03:27.283Z"
   },
   {
    "duration": 8,
    "start_time": "2024-06-15T06:07:10.069Z"
   },
   {
    "duration": 7,
    "start_time": "2024-06-15T06:09:15.676Z"
   },
   {
    "duration": 87,
    "start_time": "2024-06-15T06:10:48.271Z"
   },
   {
    "duration": 16,
    "start_time": "2024-06-15T06:11:13.548Z"
   },
   {
    "duration": 63,
    "start_time": "2024-06-15T06:15:24.179Z"
   },
   {
    "duration": 66,
    "start_time": "2024-06-15T06:15:36.625Z"
   },
   {
    "duration": 11,
    "start_time": "2024-06-15T06:16:35.823Z"
   },
   {
    "duration": 17,
    "start_time": "2024-06-15T06:16:59.687Z"
   },
   {
    "duration": 1038,
    "start_time": "2024-06-15T06:18:40.567Z"
   },
   {
    "duration": 33,
    "start_time": "2024-06-15T06:18:41.607Z"
   },
   {
    "duration": 9,
    "start_time": "2024-06-15T06:18:41.641Z"
   },
   {
    "duration": 7,
    "start_time": "2024-06-15T06:18:41.652Z"
   },
   {
    "duration": 15,
    "start_time": "2024-06-15T06:18:41.660Z"
   },
   {
    "duration": 10,
    "start_time": "2024-06-15T06:18:41.676Z"
   },
   {
    "duration": 45,
    "start_time": "2024-06-15T06:18:41.687Z"
   },
   {
    "duration": 13,
    "start_time": "2024-06-15T06:18:41.733Z"
   },
   {
    "duration": 15,
    "start_time": "2024-06-15T06:18:41.748Z"
   },
   {
    "duration": 14,
    "start_time": "2024-06-15T06:18:41.765Z"
   },
   {
    "duration": 17,
    "start_time": "2024-06-15T06:18:41.780Z"
   },
   {
    "duration": 23,
    "start_time": "2024-06-15T06:18:41.798Z"
   },
   {
    "duration": 6,
    "start_time": "2024-06-15T06:18:41.822Z"
   },
   {
    "duration": 9,
    "start_time": "2024-06-15T06:18:41.830Z"
   },
   {
    "duration": 433,
    "start_time": "2024-06-15T06:18:41.840Z"
   },
   {
    "duration": 146,
    "start_time": "2024-06-15T06:18:42.274Z"
   },
   {
    "duration": 242,
    "start_time": "2024-06-15T06:18:42.422Z"
   },
   {
    "duration": 163,
    "start_time": "2024-06-15T06:18:42.665Z"
   },
   {
    "duration": 238,
    "start_time": "2024-06-15T06:18:42.830Z"
   },
   {
    "duration": 104,
    "start_time": "2024-06-15T06:18:43.069Z"
   },
   {
    "duration": 4,
    "start_time": "2024-06-15T06:18:43.175Z"
   },
   {
    "duration": 104,
    "start_time": "2024-06-15T06:18:43.180Z"
   },
   {
    "duration": 102,
    "start_time": "2024-06-15T06:18:43.285Z"
   },
   {
    "duration": 3,
    "start_time": "2024-06-15T06:18:43.388Z"
   },
   {
    "duration": 414,
    "start_time": "2024-06-15T06:18:43.401Z"
   },
   {
    "duration": 216,
    "start_time": "2024-06-15T06:18:43.816Z"
   },
   {
    "duration": 8,
    "start_time": "2024-06-15T06:18:44.033Z"
   },
   {
    "duration": 63,
    "start_time": "2024-06-15T06:18:44.044Z"
   },
   {
    "duration": 11,
    "start_time": "2024-06-15T06:18:44.108Z"
   },
   {
    "duration": 11,
    "start_time": "2024-06-15T06:19:35.182Z"
   },
   {
    "duration": 964,
    "start_time": "2024-06-15T06:19:43.355Z"
   },
   {
    "duration": 36,
    "start_time": "2024-06-15T06:19:44.320Z"
   },
   {
    "duration": 9,
    "start_time": "2024-06-15T06:19:44.357Z"
   },
   {
    "duration": 16,
    "start_time": "2024-06-15T06:19:44.367Z"
   },
   {
    "duration": 28,
    "start_time": "2024-06-15T06:19:44.384Z"
   },
   {
    "duration": 8,
    "start_time": "2024-06-15T06:19:44.414Z"
   },
   {
    "duration": 43,
    "start_time": "2024-06-15T06:19:44.424Z"
   },
   {
    "duration": 11,
    "start_time": "2024-06-15T06:19:44.469Z"
   },
   {
    "duration": 20,
    "start_time": "2024-06-15T06:19:44.482Z"
   },
   {
    "duration": 12,
    "start_time": "2024-06-15T06:19:44.504Z"
   },
   {
    "duration": 18,
    "start_time": "2024-06-15T06:19:44.517Z"
   },
   {
    "duration": 7,
    "start_time": "2024-06-15T06:19:44.536Z"
   },
   {
    "duration": 20,
    "start_time": "2024-06-15T06:19:44.545Z"
   },
   {
    "duration": 6,
    "start_time": "2024-06-15T06:19:44.566Z"
   },
   {
    "duration": 16,
    "start_time": "2024-06-15T06:19:44.573Z"
   },
   {
    "duration": 446,
    "start_time": "2024-06-15T06:19:44.590Z"
   },
   {
    "duration": 143,
    "start_time": "2024-06-15T06:19:45.037Z"
   },
   {
    "duration": 276,
    "start_time": "2024-06-15T06:19:45.181Z"
   },
   {
    "duration": 159,
    "start_time": "2024-06-15T06:19:45.458Z"
   },
   {
    "duration": 254,
    "start_time": "2024-06-15T06:19:45.618Z"
   },
   {
    "duration": 100,
    "start_time": "2024-06-15T06:19:45.874Z"
   },
   {
    "duration": 4,
    "start_time": "2024-06-15T06:19:45.975Z"
   },
   {
    "duration": 122,
    "start_time": "2024-06-15T06:19:45.981Z"
   },
   {
    "duration": 100,
    "start_time": "2024-06-15T06:19:46.104Z"
   },
   {
    "duration": 4,
    "start_time": "2024-06-15T06:19:46.206Z"
   },
   {
    "duration": 442,
    "start_time": "2024-06-15T06:19:46.211Z"
   },
   {
    "duration": 231,
    "start_time": "2024-06-15T06:19:46.655Z"
   },
   {
    "duration": 13,
    "start_time": "2024-06-15T06:19:46.889Z"
   },
   {
    "duration": 30,
    "start_time": "2024-06-15T06:19:46.903Z"
   },
   {
    "duration": 10,
    "start_time": "2024-06-15T06:19:46.935Z"
   },
   {
    "duration": 17,
    "start_time": "2024-06-15T06:23:29.883Z"
   },
   {
    "duration": 9,
    "start_time": "2024-06-15T06:23:34.301Z"
   },
   {
    "duration": 1031,
    "start_time": "2024-06-15T06:23:45.075Z"
   },
   {
    "duration": 34,
    "start_time": "2024-06-15T06:23:46.107Z"
   },
   {
    "duration": 9,
    "start_time": "2024-06-15T06:23:46.142Z"
   },
   {
    "duration": 24,
    "start_time": "2024-06-15T06:23:46.152Z"
   },
   {
    "duration": 18,
    "start_time": "2024-06-15T06:23:46.178Z"
   },
   {
    "duration": 9,
    "start_time": "2024-06-15T06:23:46.198Z"
   },
   {
    "duration": 49,
    "start_time": "2024-06-15T06:23:46.208Z"
   },
   {
    "duration": 12,
    "start_time": "2024-06-15T06:23:46.258Z"
   },
   {
    "duration": 6,
    "start_time": "2024-06-15T06:23:46.271Z"
   },
   {
    "duration": 13,
    "start_time": "2024-06-15T06:23:46.279Z"
   },
   {
    "duration": 16,
    "start_time": "2024-06-15T06:23:46.293Z"
   },
   {
    "duration": 55,
    "start_time": "2024-06-15T06:23:46.310Z"
   },
   {
    "duration": 22,
    "start_time": "2024-06-15T06:23:46.367Z"
   },
   {
    "duration": 5,
    "start_time": "2024-06-15T06:23:46.390Z"
   },
   {
    "duration": 6,
    "start_time": "2024-06-15T06:23:46.397Z"
   },
   {
    "duration": 419,
    "start_time": "2024-06-15T06:23:46.404Z"
   },
   {
    "duration": 132,
    "start_time": "2024-06-15T06:23:46.824Z"
   },
   {
    "duration": 197,
    "start_time": "2024-06-15T06:23:46.958Z"
   },
   {
    "duration": 191,
    "start_time": "2024-06-15T06:23:47.156Z"
   },
   {
    "duration": 216,
    "start_time": "2024-06-15T06:23:47.349Z"
   },
   {
    "duration": 105,
    "start_time": "2024-06-15T06:23:47.566Z"
   },
   {
    "duration": 3,
    "start_time": "2024-06-15T06:23:47.672Z"
   },
   {
    "duration": 99,
    "start_time": "2024-06-15T06:23:47.676Z"
   },
   {
    "duration": 97,
    "start_time": "2024-06-15T06:23:47.776Z"
   },
   {
    "duration": 3,
    "start_time": "2024-06-15T06:23:47.875Z"
   },
   {
    "duration": 403,
    "start_time": "2024-06-15T06:23:47.879Z"
   },
   {
    "duration": 232,
    "start_time": "2024-06-15T06:23:48.283Z"
   },
   {
    "duration": 8,
    "start_time": "2024-06-15T06:23:48.517Z"
   },
   {
    "duration": 23,
    "start_time": "2024-06-15T06:23:48.526Z"
   },
   {
    "duration": 11,
    "start_time": "2024-06-15T06:23:48.550Z"
   },
   {
    "duration": 44,
    "start_time": "2024-06-15T10:34:47.426Z"
   },
   {
    "duration": 1159,
    "start_time": "2024-06-15T10:35:00.866Z"
   },
   {
    "duration": 87,
    "start_time": "2024-06-15T10:35:02.027Z"
   },
   {
    "duration": 114,
    "start_time": "2024-06-15T10:35:02.115Z"
   },
   {
    "duration": 42,
    "start_time": "2024-06-15T10:35:02.231Z"
   },
   {
    "duration": 36,
    "start_time": "2024-06-15T10:35:02.274Z"
   },
   {
    "duration": 29,
    "start_time": "2024-06-15T10:35:02.311Z"
   },
   {
    "duration": 105,
    "start_time": "2024-06-15T10:35:02.341Z"
   },
   {
    "duration": 13,
    "start_time": "2024-06-15T10:35:02.447Z"
   },
   {
    "duration": 32,
    "start_time": "2024-06-15T10:35:02.461Z"
   },
   {
    "duration": 27,
    "start_time": "2024-06-15T10:35:02.495Z"
   },
   {
    "duration": 155,
    "start_time": "2024-06-15T10:35:02.523Z"
   },
   {
    "duration": 0,
    "start_time": "2024-06-15T10:35:02.679Z"
   },
   {
    "duration": 0,
    "start_time": "2024-06-15T10:35:02.680Z"
   },
   {
    "duration": 0,
    "start_time": "2024-06-15T10:35:02.681Z"
   },
   {
    "duration": 0,
    "start_time": "2024-06-15T10:35:02.682Z"
   },
   {
    "duration": 0,
    "start_time": "2024-06-15T10:35:02.682Z"
   },
   {
    "duration": 0,
    "start_time": "2024-06-15T10:35:02.683Z"
   },
   {
    "duration": 0,
    "start_time": "2024-06-15T10:35:02.684Z"
   },
   {
    "duration": 0,
    "start_time": "2024-06-15T10:35:02.685Z"
   },
   {
    "duration": 0,
    "start_time": "2024-06-15T10:35:02.685Z"
   },
   {
    "duration": 0,
    "start_time": "2024-06-15T10:35:02.686Z"
   },
   {
    "duration": 0,
    "start_time": "2024-06-15T10:35:02.687Z"
   },
   {
    "duration": 0,
    "start_time": "2024-06-15T10:35:02.688Z"
   },
   {
    "duration": 0,
    "start_time": "2024-06-15T10:35:02.688Z"
   },
   {
    "duration": 0,
    "start_time": "2024-06-15T10:35:02.689Z"
   },
   {
    "duration": 0,
    "start_time": "2024-06-15T10:35:02.690Z"
   },
   {
    "duration": 0,
    "start_time": "2024-06-15T10:35:02.690Z"
   },
   {
    "duration": 0,
    "start_time": "2024-06-15T10:35:02.691Z"
   },
   {
    "duration": 0,
    "start_time": "2024-06-15T10:35:02.692Z"
   },
   {
    "duration": 8,
    "start_time": "2024-06-15T10:46:48.871Z"
   },
   {
    "duration": 8,
    "start_time": "2024-06-15T10:47:52.460Z"
   },
   {
    "duration": 9,
    "start_time": "2024-06-15T10:48:32.564Z"
   },
   {
    "duration": 15,
    "start_time": "2024-06-15T10:49:19.864Z"
   },
   {
    "duration": 20,
    "start_time": "2024-06-15T10:50:04.146Z"
   },
   {
    "duration": 48,
    "start_time": "2024-06-15T10:56:56.241Z"
   },
   {
    "duration": 1030,
    "start_time": "2024-06-15T10:58:14.603Z"
   },
   {
    "duration": 32,
    "start_time": "2024-06-15T10:58:15.634Z"
   },
   {
    "duration": 9,
    "start_time": "2024-06-15T10:58:15.667Z"
   },
   {
    "duration": 8,
    "start_time": "2024-06-15T10:58:15.678Z"
   },
   {
    "duration": 20,
    "start_time": "2024-06-15T10:58:15.687Z"
   },
   {
    "duration": 9,
    "start_time": "2024-06-15T10:58:15.709Z"
   },
   {
    "duration": 46,
    "start_time": "2024-06-15T10:58:15.719Z"
   },
   {
    "duration": 12,
    "start_time": "2024-06-15T10:58:15.766Z"
   },
   {
    "duration": 6,
    "start_time": "2024-06-15T10:58:15.779Z"
   },
   {
    "duration": 26,
    "start_time": "2024-06-15T10:58:15.788Z"
   },
   {
    "duration": 19,
    "start_time": "2024-06-15T10:58:15.816Z"
   },
   {
    "duration": 62,
    "start_time": "2024-06-15T10:58:15.837Z"
   },
   {
    "duration": 5,
    "start_time": "2024-06-15T10:58:15.900Z"
   },
   {
    "duration": 7,
    "start_time": "2024-06-15T10:58:15.906Z"
   },
   {
    "duration": 453,
    "start_time": "2024-06-15T10:58:15.914Z"
   },
   {
    "duration": 151,
    "start_time": "2024-06-15T10:58:16.368Z"
   },
   {
    "duration": 254,
    "start_time": "2024-06-15T10:58:16.520Z"
   },
   {
    "duration": 163,
    "start_time": "2024-06-15T10:58:16.775Z"
   },
   {
    "duration": 249,
    "start_time": "2024-06-15T10:58:16.940Z"
   },
   {
    "duration": 101,
    "start_time": "2024-06-15T10:58:17.191Z"
   },
   {
    "duration": 4,
    "start_time": "2024-06-15T10:58:17.293Z"
   },
   {
    "duration": 106,
    "start_time": "2024-06-15T10:58:17.298Z"
   },
   {
    "duration": 99,
    "start_time": "2024-06-15T10:58:17.406Z"
   },
   {
    "duration": 4,
    "start_time": "2024-06-15T10:58:17.506Z"
   },
   {
    "duration": 433,
    "start_time": "2024-06-15T10:58:17.511Z"
   },
   {
    "duration": 228,
    "start_time": "2024-06-15T10:58:17.946Z"
   },
   {
    "duration": 8,
    "start_time": "2024-06-15T10:58:18.175Z"
   },
   {
    "duration": 37,
    "start_time": "2024-06-15T10:58:18.185Z"
   },
   {
    "duration": 12,
    "start_time": "2024-06-15T10:58:18.223Z"
   },
   {
    "duration": 344,
    "start_time": "2024-06-15T11:04:32.147Z"
   },
   {
    "duration": 370,
    "start_time": "2024-06-15T11:04:45.491Z"
   },
   {
    "duration": 314,
    "start_time": "2024-06-15T11:04:59.651Z"
   },
   {
    "duration": 41,
    "start_time": "2024-06-15T11:05:50.999Z"
   },
   {
    "duration": 309,
    "start_time": "2024-06-15T11:05:55.056Z"
   },
   {
    "duration": 492,
    "start_time": "2024-06-15T11:07:20.805Z"
   },
   {
    "duration": 305,
    "start_time": "2024-06-15T11:09:13.948Z"
   },
   {
    "duration": 293,
    "start_time": "2024-06-15T11:11:25.795Z"
   },
   {
    "duration": 215,
    "start_time": "2024-06-15T11:13:43.223Z"
   },
   {
    "duration": 197,
    "start_time": "2024-06-15T11:14:02.938Z"
   },
   {
    "duration": 242,
    "start_time": "2024-06-15T11:14:27.201Z"
   },
   {
    "duration": 42,
    "start_time": "2024-06-15T11:15:35.539Z"
   },
   {
    "duration": 244,
    "start_time": "2024-06-15T11:15:39.797Z"
   },
   {
    "duration": 282,
    "start_time": "2024-06-15T11:15:58.172Z"
   },
   {
    "duration": 58,
    "start_time": "2024-06-15T11:25:07.376Z"
   },
   {
    "duration": 9,
    "start_time": "2024-06-15T11:28:45.011Z"
   },
   {
    "duration": 991,
    "start_time": "2024-06-15T11:28:53.666Z"
   },
   {
    "duration": 32,
    "start_time": "2024-06-15T11:28:54.658Z"
   },
   {
    "duration": 9,
    "start_time": "2024-06-15T11:28:54.691Z"
   },
   {
    "duration": 7,
    "start_time": "2024-06-15T11:28:54.702Z"
   },
   {
    "duration": 15,
    "start_time": "2024-06-15T11:28:54.710Z"
   },
   {
    "duration": 11,
    "start_time": "2024-06-15T11:28:54.727Z"
   },
   {
    "duration": 50,
    "start_time": "2024-06-15T11:28:54.739Z"
   },
   {
    "duration": 13,
    "start_time": "2024-06-15T11:28:54.790Z"
   },
   {
    "duration": 7,
    "start_time": "2024-06-15T11:28:54.804Z"
   },
   {
    "duration": 24,
    "start_time": "2024-06-15T11:28:54.813Z"
   },
   {
    "duration": 19,
    "start_time": "2024-06-15T11:28:54.838Z"
   },
   {
    "duration": 20,
    "start_time": "2024-06-15T11:28:54.858Z"
   },
   {
    "duration": 6,
    "start_time": "2024-06-15T11:28:54.879Z"
   },
   {
    "duration": 5,
    "start_time": "2024-06-15T11:28:54.886Z"
   },
   {
    "duration": 606,
    "start_time": "2024-06-15T11:28:54.892Z"
   },
   {
    "duration": 296,
    "start_time": "2024-06-15T11:28:55.500Z"
   },
   {
    "duration": 385,
    "start_time": "2024-06-15T11:28:55.797Z"
   },
   {
    "duration": 311,
    "start_time": "2024-06-15T11:28:56.183Z"
   },
   {
    "duration": 371,
    "start_time": "2024-06-15T11:28:56.495Z"
   },
   {
    "duration": 266,
    "start_time": "2024-06-15T11:28:56.867Z"
   },
   {
    "duration": 4,
    "start_time": "2024-06-15T11:28:57.134Z"
   },
   {
    "duration": 221,
    "start_time": "2024-06-15T11:28:57.139Z"
   },
   {
    "duration": 204,
    "start_time": "2024-06-15T11:28:57.361Z"
   },
   {
    "duration": 3,
    "start_time": "2024-06-15T11:28:57.566Z"
   },
   {
    "duration": 471,
    "start_time": "2024-06-15T11:28:57.571Z"
   },
   {
    "duration": 8,
    "start_time": "2024-06-15T11:28:58.043Z"
   },
   {
    "duration": 6,
    "start_time": "2024-06-15T11:28:58.053Z"
   },
   {
    "duration": 24,
    "start_time": "2024-06-15T11:28:58.062Z"
   },
   {
    "duration": 33,
    "start_time": "2024-06-15T11:28:58.088Z"
   },
   {
    "duration": 8,
    "start_time": "2024-06-15T11:29:53.806Z"
   },
   {
    "duration": 19,
    "start_time": "2024-06-15T11:31:30.165Z"
   },
   {
    "duration": 980,
    "start_time": "2024-06-15T11:31:44.953Z"
   },
   {
    "duration": 31,
    "start_time": "2024-06-15T11:31:45.935Z"
   },
   {
    "duration": 9,
    "start_time": "2024-06-15T11:31:45.968Z"
   },
   {
    "duration": 13,
    "start_time": "2024-06-15T11:31:45.979Z"
   },
   {
    "duration": 11,
    "start_time": "2024-06-15T11:31:45.994Z"
   },
   {
    "duration": 11,
    "start_time": "2024-06-15T11:31:46.006Z"
   },
   {
    "duration": 45,
    "start_time": "2024-06-15T11:31:46.018Z"
   },
   {
    "duration": 14,
    "start_time": "2024-06-15T11:31:46.064Z"
   },
   {
    "duration": 24,
    "start_time": "2024-06-15T11:31:46.080Z"
   },
   {
    "duration": 19,
    "start_time": "2024-06-15T11:31:46.106Z"
   },
   {
    "duration": 19,
    "start_time": "2024-06-15T11:31:46.127Z"
   },
   {
    "duration": 19,
    "start_time": "2024-06-15T11:31:46.147Z"
   },
   {
    "duration": 5,
    "start_time": "2024-06-15T11:31:46.167Z"
   },
   {
    "duration": 9,
    "start_time": "2024-06-15T11:31:46.173Z"
   },
   {
    "duration": 617,
    "start_time": "2024-06-15T11:31:46.183Z"
   },
   {
    "duration": 284,
    "start_time": "2024-06-15T11:31:46.801Z"
   },
   {
    "duration": 300,
    "start_time": "2024-06-15T11:31:47.086Z"
   },
   {
    "duration": 278,
    "start_time": "2024-06-15T11:31:47.419Z"
   },
   {
    "duration": 371,
    "start_time": "2024-06-15T11:31:47.698Z"
   },
   {
    "duration": 256,
    "start_time": "2024-06-15T11:31:48.070Z"
   },
   {
    "duration": 4,
    "start_time": "2024-06-15T11:31:48.327Z"
   },
   {
    "duration": 227,
    "start_time": "2024-06-15T11:31:48.332Z"
   },
   {
    "duration": 273,
    "start_time": "2024-06-15T11:31:48.560Z"
   },
   {
    "duration": 4,
    "start_time": "2024-06-15T11:31:48.835Z"
   },
   {
    "duration": 96,
    "start_time": "2024-06-15T11:31:48.840Z"
   },
   {
    "duration": 0,
    "start_time": "2024-06-15T11:31:48.938Z"
   },
   {
    "duration": 0,
    "start_time": "2024-06-15T11:31:48.939Z"
   },
   {
    "duration": 0,
    "start_time": "2024-06-15T11:31:48.940Z"
   },
   {
    "duration": 0,
    "start_time": "2024-06-15T11:31:48.941Z"
   },
   {
    "duration": 12,
    "start_time": "2024-06-15T11:32:57.040Z"
   },
   {
    "duration": 58,
    "start_time": "2024-06-15T11:33:47.182Z"
   },
   {
    "duration": 987,
    "start_time": "2024-06-15T11:33:56.333Z"
   },
   {
    "duration": 31,
    "start_time": "2024-06-15T11:33:57.322Z"
   },
   {
    "duration": 9,
    "start_time": "2024-06-15T11:33:57.355Z"
   },
   {
    "duration": 8,
    "start_time": "2024-06-15T11:33:57.366Z"
   },
   {
    "duration": 13,
    "start_time": "2024-06-15T11:33:57.375Z"
   },
   {
    "duration": 10,
    "start_time": "2024-06-15T11:33:57.389Z"
   },
   {
    "duration": 51,
    "start_time": "2024-06-15T11:33:57.400Z"
   },
   {
    "duration": 12,
    "start_time": "2024-06-15T11:33:57.453Z"
   },
   {
    "duration": 9,
    "start_time": "2024-06-15T11:33:57.466Z"
   },
   {
    "duration": 14,
    "start_time": "2024-06-15T11:33:57.477Z"
   },
   {
    "duration": 21,
    "start_time": "2024-06-15T11:33:57.492Z"
   },
   {
    "duration": 19,
    "start_time": "2024-06-15T11:33:57.515Z"
   },
   {
    "duration": 5,
    "start_time": "2024-06-15T11:33:57.535Z"
   },
   {
    "duration": 4,
    "start_time": "2024-06-15T11:33:57.541Z"
   },
   {
    "duration": 628,
    "start_time": "2024-06-15T11:33:57.546Z"
   },
   {
    "duration": 303,
    "start_time": "2024-06-15T11:33:58.176Z"
   },
   {
    "duration": 342,
    "start_time": "2024-06-15T11:33:58.480Z"
   },
   {
    "duration": 311,
    "start_time": "2024-06-15T11:33:58.823Z"
   },
   {
    "duration": 347,
    "start_time": "2024-06-15T11:33:59.136Z"
   },
   {
    "duration": 247,
    "start_time": "2024-06-15T11:33:59.484Z"
   },
   {
    "duration": 3,
    "start_time": "2024-06-15T11:33:59.733Z"
   },
   {
    "duration": 224,
    "start_time": "2024-06-15T11:33:59.738Z"
   },
   {
    "duration": 277,
    "start_time": "2024-06-15T11:33:59.963Z"
   },
   {
    "duration": 3,
    "start_time": "2024-06-15T11:34:00.242Z"
   },
   {
    "duration": 231,
    "start_time": "2024-06-15T11:34:00.247Z"
   },
   {
    "duration": 0,
    "start_time": "2024-06-15T11:34:00.480Z"
   },
   {
    "duration": 0,
    "start_time": "2024-06-15T11:34:00.481Z"
   },
   {
    "duration": 0,
    "start_time": "2024-06-15T11:34:00.482Z"
   },
   {
    "duration": 0,
    "start_time": "2024-06-15T11:34:00.483Z"
   },
   {
    "duration": 476,
    "start_time": "2024-06-15T11:34:50.262Z"
   },
   {
    "duration": 350,
    "start_time": "2024-06-15T11:35:55.722Z"
   },
   {
    "duration": 107,
    "start_time": "2024-06-15T11:37:39.962Z"
   },
   {
    "duration": 108,
    "start_time": "2024-06-15T11:37:50.414Z"
   },
   {
    "duration": 259,
    "start_time": "2024-06-15T11:39:36.478Z"
   },
   {
    "duration": 19,
    "start_time": "2024-06-15T11:39:39.282Z"
   },
   {
    "duration": 126,
    "start_time": "2024-06-15T11:41:37.294Z"
   },
   {
    "duration": 6,
    "start_time": "2024-06-15T11:42:08.158Z"
   },
   {
    "duration": 5,
    "start_time": "2024-06-15T11:43:17.193Z"
   },
   {
    "duration": 7,
    "start_time": "2024-06-15T11:43:51.479Z"
   },
   {
    "duration": 128,
    "start_time": "2024-06-15T11:44:15.203Z"
   },
   {
    "duration": 19,
    "start_time": "2024-06-15T11:44:16.084Z"
   },
   {
    "duration": 122,
    "start_time": "2024-06-15T11:54:47.769Z"
   },
   {
    "duration": 128,
    "start_time": "2024-06-15T11:54:56.293Z"
   },
   {
    "duration": 124,
    "start_time": "2024-06-15T11:55:04.972Z"
   },
   {
    "duration": 116,
    "start_time": "2024-06-15T11:55:16.736Z"
   },
   {
    "duration": 141,
    "start_time": "2024-06-15T11:55:24.573Z"
   },
   {
    "duration": 119,
    "start_time": "2024-06-15T11:55:35.937Z"
   },
   {
    "duration": 128,
    "start_time": "2024-06-15T11:59:22.111Z"
   },
   {
    "duration": 5,
    "start_time": "2024-06-15T11:59:45.576Z"
   },
   {
    "duration": 6,
    "start_time": "2024-06-15T12:01:01.589Z"
   },
   {
    "duration": 5,
    "start_time": "2024-06-15T12:01:05.209Z"
   },
   {
    "duration": 122,
    "start_time": "2024-06-15T12:01:08.492Z"
   },
   {
    "duration": 22,
    "start_time": "2024-06-15T12:02:22.598Z"
   },
   {
    "duration": 9,
    "start_time": "2024-06-15T12:04:21.194Z"
   },
   {
    "duration": 9,
    "start_time": "2024-06-15T12:04:52.043Z"
   },
   {
    "duration": 11,
    "start_time": "2024-06-15T12:05:55.813Z"
   },
   {
    "duration": 19,
    "start_time": "2024-06-15T12:08:31.254Z"
   },
   {
    "duration": 20,
    "start_time": "2024-06-15T12:08:40.692Z"
   },
   {
    "duration": 53,
    "start_time": "2024-06-15T12:09:48.723Z"
   },
   {
    "duration": 9,
    "start_time": "2024-06-15T12:10:36.384Z"
   },
   {
    "duration": 1004,
    "start_time": "2024-06-15T12:10:47.290Z"
   },
   {
    "duration": 36,
    "start_time": "2024-06-15T12:10:48.296Z"
   },
   {
    "duration": 14,
    "start_time": "2024-06-15T12:10:48.333Z"
   },
   {
    "duration": 8,
    "start_time": "2024-06-15T12:10:48.349Z"
   },
   {
    "duration": 19,
    "start_time": "2024-06-15T12:10:48.358Z"
   },
   {
    "duration": 14,
    "start_time": "2024-06-15T12:10:48.379Z"
   },
   {
    "duration": 93,
    "start_time": "2024-06-15T12:10:48.395Z"
   },
   {
    "duration": 15,
    "start_time": "2024-06-15T12:10:48.489Z"
   },
   {
    "duration": 6,
    "start_time": "2024-06-15T12:10:48.505Z"
   },
   {
    "duration": 14,
    "start_time": "2024-06-15T12:10:48.514Z"
   },
   {
    "duration": 20,
    "start_time": "2024-06-15T12:10:48.529Z"
   },
   {
    "duration": 20,
    "start_time": "2024-06-15T12:10:48.551Z"
   },
   {
    "duration": 6,
    "start_time": "2024-06-15T12:10:48.572Z"
   },
   {
    "duration": 9,
    "start_time": "2024-06-15T12:10:48.579Z"
   },
   {
    "duration": 600,
    "start_time": "2024-06-15T12:10:48.589Z"
   },
   {
    "duration": 293,
    "start_time": "2024-06-15T12:10:49.190Z"
   },
   {
    "duration": 400,
    "start_time": "2024-06-15T12:10:49.484Z"
   },
   {
    "duration": 304,
    "start_time": "2024-06-15T12:10:49.885Z"
   },
   {
    "duration": 381,
    "start_time": "2024-06-15T12:10:50.190Z"
   },
   {
    "duration": 260,
    "start_time": "2024-06-15T12:10:50.572Z"
   },
   {
    "duration": 4,
    "start_time": "2024-06-15T12:10:50.834Z"
   },
   {
    "duration": 332,
    "start_time": "2024-06-15T12:10:50.839Z"
   },
   {
    "duration": 273,
    "start_time": "2024-06-15T12:10:51.172Z"
   },
   {
    "duration": 4,
    "start_time": "2024-06-15T12:10:51.447Z"
   },
   {
    "duration": 199,
    "start_time": "2024-06-15T12:10:51.453Z"
   },
   {
    "duration": 0,
    "start_time": "2024-06-15T12:10:51.654Z"
   },
   {
    "duration": 0,
    "start_time": "2024-06-15T12:10:51.656Z"
   },
   {
    "duration": 0,
    "start_time": "2024-06-15T12:10:51.657Z"
   },
   {
    "duration": 0,
    "start_time": "2024-06-15T12:10:51.658Z"
   },
   {
    "duration": 0,
    "start_time": "2024-06-15T12:10:51.659Z"
   },
   {
    "duration": 0,
    "start_time": "2024-06-15T12:10:51.660Z"
   },
   {
    "duration": 0,
    "start_time": "2024-06-15T12:10:51.661Z"
   },
   {
    "duration": 0,
    "start_time": "2024-06-15T12:10:51.662Z"
   },
   {
    "duration": 0,
    "start_time": "2024-06-15T12:10:51.663Z"
   },
   {
    "duration": 0,
    "start_time": "2024-06-15T12:10:51.664Z"
   },
   {
    "duration": 201,
    "start_time": "2024-06-15T12:14:02.150Z"
   },
   {
    "duration": 1012,
    "start_time": "2024-06-15T12:14:44.855Z"
   },
   {
    "duration": 33,
    "start_time": "2024-06-15T12:14:45.869Z"
   },
   {
    "duration": 10,
    "start_time": "2024-06-15T12:14:45.903Z"
   },
   {
    "duration": 7,
    "start_time": "2024-06-15T12:14:45.915Z"
   },
   {
    "duration": 19,
    "start_time": "2024-06-15T12:14:45.924Z"
   },
   {
    "duration": 17,
    "start_time": "2024-06-15T12:14:45.944Z"
   },
   {
    "duration": 49,
    "start_time": "2024-06-15T12:14:45.962Z"
   },
   {
    "duration": 13,
    "start_time": "2024-06-15T12:14:46.012Z"
   },
   {
    "duration": 12,
    "start_time": "2024-06-15T12:14:46.026Z"
   },
   {
    "duration": 14,
    "start_time": "2024-06-15T12:14:46.041Z"
   },
   {
    "duration": 31,
    "start_time": "2024-06-15T12:14:46.057Z"
   },
   {
    "duration": 21,
    "start_time": "2024-06-15T12:14:46.089Z"
   },
   {
    "duration": 9,
    "start_time": "2024-06-15T12:14:46.111Z"
   },
   {
    "duration": 3,
    "start_time": "2024-06-15T12:14:46.121Z"
   },
   {
    "duration": 650,
    "start_time": "2024-06-15T12:14:46.126Z"
   },
   {
    "duration": 292,
    "start_time": "2024-06-15T12:14:46.778Z"
   },
   {
    "duration": 351,
    "start_time": "2024-06-15T12:14:47.071Z"
   },
   {
    "duration": 297,
    "start_time": "2024-06-15T12:14:47.423Z"
   },
   {
    "duration": 361,
    "start_time": "2024-06-15T12:14:47.722Z"
   },
   {
    "duration": 248,
    "start_time": "2024-06-15T12:14:48.084Z"
   },
   {
    "duration": 4,
    "start_time": "2024-06-15T12:14:48.333Z"
   },
   {
    "duration": 222,
    "start_time": "2024-06-15T12:14:48.338Z"
   },
   {
    "duration": 282,
    "start_time": "2024-06-15T12:14:48.561Z"
   },
   {
    "duration": 3,
    "start_time": "2024-06-15T12:14:48.844Z"
   },
   {
    "duration": 200,
    "start_time": "2024-06-15T12:14:48.848Z"
   },
   {
    "duration": 136,
    "start_time": "2024-06-15T12:14:49.050Z"
   },
   {
    "duration": 5,
    "start_time": "2024-06-15T12:14:49.187Z"
   },
   {
    "duration": 10,
    "start_time": "2024-06-15T12:14:49.195Z"
   },
   {
    "duration": 6,
    "start_time": "2024-06-15T12:14:49.220Z"
   },
   {
    "duration": 139,
    "start_time": "2024-06-15T12:14:49.227Z"
   },
   {
    "duration": 20,
    "start_time": "2024-06-15T12:14:49.368Z"
   },
   {
    "duration": 10,
    "start_time": "2024-06-15T12:14:49.389Z"
   },
   {
    "duration": 21,
    "start_time": "2024-06-15T12:14:49.401Z"
   },
   {
    "duration": 30,
    "start_time": "2024-06-15T12:14:49.423Z"
   },
   {
    "duration": 11,
    "start_time": "2024-06-15T12:14:49.454Z"
   },
   {
    "duration": 10,
    "start_time": "2024-06-15T12:15:22.473Z"
   },
   {
    "duration": 29,
    "start_time": "2024-06-15T12:15:56.329Z"
   },
   {
    "duration": 24,
    "start_time": "2024-06-15T12:16:35.063Z"
   },
   {
    "duration": 11,
    "start_time": "2024-06-15T12:17:01.948Z"
   },
   {
    "duration": 962,
    "start_time": "2024-06-15T12:22:59.876Z"
   },
   {
    "duration": 32,
    "start_time": "2024-06-15T12:23:00.840Z"
   },
   {
    "duration": 35,
    "start_time": "2024-06-15T12:23:00.873Z"
   },
   {
    "duration": 103,
    "start_time": "2024-06-15T12:23:00.910Z"
   },
   {
    "duration": 109,
    "start_time": "2024-06-15T12:23:01.014Z"
   },
   {
    "duration": 112,
    "start_time": "2024-06-15T12:23:01.124Z"
   },
   {
    "duration": 250,
    "start_time": "2024-06-15T12:23:01.237Z"
   },
   {
    "duration": 84,
    "start_time": "2024-06-15T12:23:01.488Z"
   },
   {
    "duration": 46,
    "start_time": "2024-06-15T12:23:01.573Z"
   },
   {
    "duration": 128,
    "start_time": "2024-06-15T12:23:01.621Z"
   },
   {
    "duration": 128,
    "start_time": "2024-06-15T12:23:01.750Z"
   },
   {
    "duration": 58,
    "start_time": "2024-06-15T12:23:01.879Z"
   },
   {
    "duration": 13,
    "start_time": "2024-06-15T12:23:01.938Z"
   },
   {
    "duration": 87,
    "start_time": "2024-06-15T12:23:01.952Z"
   },
   {
    "duration": 736,
    "start_time": "2024-06-15T12:23:02.040Z"
   },
   {
    "duration": 300,
    "start_time": "2024-06-15T12:23:02.778Z"
   },
   {
    "duration": 302,
    "start_time": "2024-06-15T12:23:03.080Z"
   },
   {
    "duration": 305,
    "start_time": "2024-06-15T12:23:03.384Z"
   },
   {
    "duration": 377,
    "start_time": "2024-06-15T12:23:03.690Z"
   },
   {
    "duration": 259,
    "start_time": "2024-06-15T12:23:04.069Z"
   },
   {
    "duration": 4,
    "start_time": "2024-06-15T12:23:04.330Z"
   },
   {
    "duration": 223,
    "start_time": "2024-06-15T12:23:04.335Z"
   },
   {
    "duration": 200,
    "start_time": "2024-06-15T12:23:04.559Z"
   },
   {
    "duration": 4,
    "start_time": "2024-06-15T12:23:04.760Z"
   },
   {
    "duration": 208,
    "start_time": "2024-06-15T12:23:04.765Z"
   },
   {
    "duration": 124,
    "start_time": "2024-06-15T12:23:04.974Z"
   },
   {
    "duration": 6,
    "start_time": "2024-06-15T12:23:05.099Z"
   },
   {
    "duration": 8,
    "start_time": "2024-06-15T12:23:05.119Z"
   },
   {
    "duration": 6,
    "start_time": "2024-06-15T12:23:05.129Z"
   },
   {
    "duration": 142,
    "start_time": "2024-06-15T12:23:05.136Z"
   },
   {
    "duration": 21,
    "start_time": "2024-06-15T12:23:05.279Z"
   },
   {
    "duration": 22,
    "start_time": "2024-06-15T12:23:05.301Z"
   },
   {
    "duration": 7,
    "start_time": "2024-06-15T12:23:05.324Z"
   },
   {
    "duration": 46,
    "start_time": "2024-06-15T12:23:05.332Z"
   },
   {
    "duration": 13,
    "start_time": "2024-06-15T12:23:05.379Z"
   },
   {
    "duration": 1124,
    "start_time": "2024-06-16T06:45:03.405Z"
   },
   {
    "duration": 90,
    "start_time": "2024-06-16T06:45:04.531Z"
   },
   {
    "duration": 13,
    "start_time": "2024-06-16T06:45:04.623Z"
   },
   {
    "duration": 27,
    "start_time": "2024-06-16T06:45:04.639Z"
   },
   {
    "duration": 23,
    "start_time": "2024-06-16T06:45:04.668Z"
   },
   {
    "duration": 33,
    "start_time": "2024-06-16T06:45:04.693Z"
   },
   {
    "duration": 107,
    "start_time": "2024-06-16T06:45:04.727Z"
   },
   {
    "duration": 15,
    "start_time": "2024-06-16T06:45:04.836Z"
   },
   {
    "duration": 23,
    "start_time": "2024-06-16T06:45:04.853Z"
   },
   {
    "duration": 41,
    "start_time": "2024-06-16T06:45:04.879Z"
   },
   {
    "duration": 33,
    "start_time": "2024-06-16T06:45:04.921Z"
   },
   {
    "duration": 79,
    "start_time": "2024-06-16T06:45:04.956Z"
   },
   {
    "duration": 7,
    "start_time": "2024-06-16T06:45:05.037Z"
   },
   {
    "duration": 24,
    "start_time": "2024-06-16T06:45:05.046Z"
   },
   {
    "duration": 749,
    "start_time": "2024-06-16T06:45:05.072Z"
   },
   {
    "duration": 356,
    "start_time": "2024-06-16T06:45:05.823Z"
   },
   {
    "duration": 456,
    "start_time": "2024-06-16T06:45:06.180Z"
   },
   {
    "duration": 394,
    "start_time": "2024-06-16T06:45:06.637Z"
   },
   {
    "duration": 441,
    "start_time": "2024-06-16T06:45:07.033Z"
   },
   {
    "duration": 239,
    "start_time": "2024-06-16T06:45:07.476Z"
   },
   {
    "duration": 46,
    "start_time": "2024-06-16T06:45:07.716Z"
   },
   {
    "duration": 260,
    "start_time": "2024-06-16T06:45:07.764Z"
   },
   {
    "duration": 285,
    "start_time": "2024-06-16T06:45:08.026Z"
   },
   {
    "duration": 4,
    "start_time": "2024-06-16T06:45:08.312Z"
   },
   {
    "duration": 234,
    "start_time": "2024-06-16T06:45:08.318Z"
   },
   {
    "duration": 165,
    "start_time": "2024-06-16T06:45:08.559Z"
   },
   {
    "duration": 7,
    "start_time": "2024-06-16T06:45:08.726Z"
   },
   {
    "duration": 31,
    "start_time": "2024-06-16T06:45:08.737Z"
   },
   {
    "duration": 28,
    "start_time": "2024-06-16T06:45:08.772Z"
   },
   {
    "duration": 165,
    "start_time": "2024-06-16T06:45:08.802Z"
   },
   {
    "duration": 28,
    "start_time": "2024-06-16T06:45:08.971Z"
   },
   {
    "duration": 11,
    "start_time": "2024-06-16T06:45:09.001Z"
   },
   {
    "duration": 22,
    "start_time": "2024-06-16T06:45:09.013Z"
   },
   {
    "duration": 65,
    "start_time": "2024-06-16T06:45:09.037Z"
   },
   {
    "duration": 14,
    "start_time": "2024-06-16T06:45:09.103Z"
   },
   {
    "duration": 1109,
    "start_time": "2024-06-16T06:52:05.596Z"
   },
   {
    "duration": 42,
    "start_time": "2024-06-16T06:52:06.707Z"
   },
   {
    "duration": 24,
    "start_time": "2024-06-16T06:52:06.751Z"
   },
   {
    "duration": 9,
    "start_time": "2024-06-16T06:52:06.777Z"
   },
   {
    "duration": 37,
    "start_time": "2024-06-16T06:52:06.788Z"
   },
   {
    "duration": 15,
    "start_time": "2024-06-16T06:52:06.827Z"
   },
   {
    "duration": 53,
    "start_time": "2024-06-16T06:52:06.844Z"
   },
   {
    "duration": 16,
    "start_time": "2024-06-16T06:52:06.899Z"
   },
   {
    "duration": 11,
    "start_time": "2024-06-16T06:52:06.917Z"
   },
   {
    "duration": 34,
    "start_time": "2024-06-16T06:52:06.931Z"
   },
   {
    "duration": 24,
    "start_time": "2024-06-16T06:52:06.971Z"
   },
   {
    "duration": 21,
    "start_time": "2024-06-16T06:52:06.996Z"
   },
   {
    "duration": 14,
    "start_time": "2024-06-16T06:52:07.019Z"
   },
   {
    "duration": 8,
    "start_time": "2024-06-16T06:52:07.035Z"
   },
   {
    "duration": 731,
    "start_time": "2024-06-16T06:52:07.045Z"
   },
   {
    "duration": 357,
    "start_time": "2024-06-16T06:52:07.778Z"
   },
   {
    "duration": 431,
    "start_time": "2024-06-16T06:52:08.137Z"
   },
   {
    "duration": 394,
    "start_time": "2024-06-16T06:52:08.569Z"
   },
   {
    "duration": 459,
    "start_time": "2024-06-16T06:52:08.972Z"
   },
   {
    "duration": 269,
    "start_time": "2024-06-16T06:52:09.432Z"
   },
   {
    "duration": 4,
    "start_time": "2024-06-16T06:52:09.702Z"
   },
   {
    "duration": 307,
    "start_time": "2024-06-16T06:52:09.708Z"
   },
   {
    "duration": 308,
    "start_time": "2024-06-16T06:52:10.017Z"
   },
   {
    "duration": 5,
    "start_time": "2024-06-16T06:52:10.327Z"
   },
   {
    "duration": 257,
    "start_time": "2024-06-16T06:52:10.334Z"
   },
   {
    "duration": 152,
    "start_time": "2024-06-16T06:52:10.593Z"
   },
   {
    "duration": 24,
    "start_time": "2024-06-16T06:52:10.747Z"
   },
   {
    "duration": 7,
    "start_time": "2024-06-16T06:52:10.774Z"
   },
   {
    "duration": 16,
    "start_time": "2024-06-16T06:52:10.783Z"
   },
   {
    "duration": 169,
    "start_time": "2024-06-16T06:52:10.800Z"
   },
   {
    "duration": 28,
    "start_time": "2024-06-16T06:52:10.970Z"
   },
   {
    "duration": 11,
    "start_time": "2024-06-16T06:52:10.999Z"
   },
   {
    "duration": 21,
    "start_time": "2024-06-16T06:52:11.012Z"
   },
   {
    "duration": 60,
    "start_time": "2024-06-16T06:52:11.034Z"
   },
   {
    "duration": 14,
    "start_time": "2024-06-16T06:52:11.096Z"
   },
   {
    "duration": 1152,
    "start_time": "2024-06-16T06:52:40.017Z"
   },
   {
    "duration": 35,
    "start_time": "2024-06-16T06:52:41.171Z"
   },
   {
    "duration": 12,
    "start_time": "2024-06-16T06:52:41.207Z"
   },
   {
    "duration": 9,
    "start_time": "2024-06-16T06:52:41.221Z"
   },
   {
    "duration": 22,
    "start_time": "2024-06-16T06:52:41.232Z"
   },
   {
    "duration": 16,
    "start_time": "2024-06-16T06:52:41.268Z"
   },
   {
    "duration": 61,
    "start_time": "2024-06-16T06:52:41.286Z"
   },
   {
    "duration": 20,
    "start_time": "2024-06-16T06:52:41.349Z"
   },
   {
    "duration": 9,
    "start_time": "2024-06-16T06:52:41.371Z"
   },
   {
    "duration": 19,
    "start_time": "2024-06-16T06:52:41.383Z"
   },
   {
    "duration": 25,
    "start_time": "2024-06-16T06:52:41.403Z"
   },
   {
    "duration": 22,
    "start_time": "2024-06-16T06:52:41.456Z"
   },
   {
    "duration": 6,
    "start_time": "2024-06-16T06:52:41.480Z"
   },
   {
    "duration": 4,
    "start_time": "2024-06-16T06:52:41.488Z"
   },
   {
    "duration": 787,
    "start_time": "2024-06-16T06:52:41.494Z"
   },
   {
    "duration": 363,
    "start_time": "2024-06-16T06:52:42.283Z"
   },
   {
    "duration": 439,
    "start_time": "2024-06-16T06:52:42.656Z"
   },
   {
    "duration": 393,
    "start_time": "2024-06-16T06:52:43.096Z"
   },
   {
    "duration": 469,
    "start_time": "2024-06-16T06:52:43.490Z"
   },
   {
    "duration": 245,
    "start_time": "2024-06-16T06:52:43.967Z"
   },
   {
    "duration": 4,
    "start_time": "2024-06-16T06:52:44.214Z"
   },
   {
    "duration": 284,
    "start_time": "2024-06-16T06:52:44.220Z"
   },
   {
    "duration": 290,
    "start_time": "2024-06-16T06:52:44.506Z"
   },
   {
    "duration": 4,
    "start_time": "2024-06-16T06:52:44.798Z"
   },
   {
    "duration": 260,
    "start_time": "2024-06-16T06:52:44.804Z"
   },
   {
    "duration": 142,
    "start_time": "2024-06-16T06:52:45.068Z"
   },
   {
    "duration": 7,
    "start_time": "2024-06-16T06:52:45.212Z"
   },
   {
    "duration": 18,
    "start_time": "2024-06-16T06:52:45.222Z"
   },
   {
    "duration": 31,
    "start_time": "2024-06-16T06:52:45.242Z"
   },
   {
    "duration": 187,
    "start_time": "2024-06-16T06:52:45.275Z"
   },
   {
    "duration": 28,
    "start_time": "2024-06-16T06:52:45.468Z"
   },
   {
    "duration": 22,
    "start_time": "2024-06-16T06:52:45.498Z"
   },
   {
    "duration": 11,
    "start_time": "2024-06-16T06:52:45.522Z"
   },
   {
    "duration": 47,
    "start_time": "2024-06-16T06:52:45.535Z"
   },
   {
    "duration": 17,
    "start_time": "2024-06-16T06:52:45.584Z"
   }
  ],
  "kernelspec": {
   "display_name": "Python 3 (ipykernel)",
   "language": "python",
   "name": "python3"
  },
  "language_info": {
   "codemirror_mode": {
    "name": "ipython",
    "version": 3
   },
   "file_extension": ".py",
   "mimetype": "text/x-python",
   "name": "python",
   "nbconvert_exporter": "python",
   "pygments_lexer": "ipython3",
   "version": "3.11.7"
  },
  "toc": {
   "base_numbering": 1,
   "nav_menu": {},
   "number_sections": true,
   "sideBar": true,
   "skip_h1_title": true,
   "title_cell": "Table of Contents",
   "title_sidebar": "Contents",
   "toc_cell": false,
   "toc_position": {},
   "toc_section_display": true,
   "toc_window_display": false
  }
 },
 "nbformat": 4,
 "nbformat_minor": 4
}
